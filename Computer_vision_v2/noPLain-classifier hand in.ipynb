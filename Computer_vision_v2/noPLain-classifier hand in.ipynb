{
 "cells": [
  {
   "cell_type": "markdown",
   "metadata": {},
   "source": [
    "# Computer Vision Assignment\n",
    "\n",
    "#### Student Name: Stephen pangga\n",
    "#### Student Numebr: 629869\n",
    "\n",
    "\n"
   ]
  },
  {
   "cell_type": "markdown",
   "metadata": {},
   "source": [
    "#### Image resizing"
   ]
  },
  {
   "cell_type": "code",
   "execution_count": null,
   "metadata": {},
   "outputs": [],
   "source": [
    "from PIL import Image\n",
    "import os\n",
    "\n",
    "path = r\"C:\\Users\\Stephen Pangga\\Desktop\\Computer_vision_v2\\All_Test_Tubes/\"\n",
    "new_path = r\"C:\\Users\\Stephen Pangga\\Desktop\\Computer_vision_v2\\Resize\"\n",
    "resize_ratio = 0.5  # where 0.5 is half size\n",
    "\n",
    "def resize_aspect_fit():\n",
    "    dirs = os.listdir(path)\n",
    "    for item in dirs:\n",
    "        if item == '.jpg':\n",
    "            continue\n",
    "        if os.path.isfile(path+item):\n",
    "            image = Image.open(path+item)\n",
    "            file_path, extension = os.path.splitext(path+item)\n",
    "\n",
    "            new_image_height = int(image.size[0] / (1/resize_ratio))\n",
    "            new_image_length = int(image.size[1] / (1/resize_ratio))\n",
    "\n",
    "            image = image.resize((new_image_height, new_image_length), Image.ANTIALIAS)\n",
    "            image.save(file_path + \"_small\" + extension, 'JPEG', quality=90)\n",
    "\n",
    "resize_aspect_fit()"
   ]
  },
  {
   "cell_type": "markdown",
   "metadata": {},
   "source": [
    "#### Data Augmentaion"
   ]
  },
  {
   "cell_type": "code",
   "execution_count": null,
   "metadata": {},
   "outputs": [],
   "source": [
    "#%pip install imageio\n",
    "#%pip install imgaug\n",
    "#%matplotlib inline\n",
    "import imageio\n",
    "import imgaug as ia\n",
    "import imgaug.augmenters as iaa\n",
    "import numpy as np\n",
    "import pandas as pd\n",
    "import matplotlib.pyplot as plt\n",
    "import matplotlib.patches as patches\n",
    "import matplotlib\n",
    "import os\n",
    "import cv2\n",
    "\n",
    "\n",
    "# C:\\Users\\Stephen Pangga\\Desktop\\Computer_vision_v2\\Resize tubes Organize Backup\n",
    "generalpath = \"/Users/Stephen Pangga/Desktop/Computer_vision_v2/Resize tubes Organize 220x380/\"\n",
    "inputpath = os.path.join(generalpath)\n",
    "outputpath = os.path.join(generalpath, 'TT')\n",
    "\n",
    "imageCountOfLetter = 0\n",
    "\n",
    "for subdir, dirs, files in os.walk(inputpath):\n",
    "    for filename in files:\n",
    "        if filename.endswith('.jpg'):\n",
    "\n",
    "            imgpath = os.path.join(subdir, filename)\n",
    "            filename_stripped = filename.strip('.jpg')             \n",
    "            outputfilepath = os.path.join(subdir, filename_stripped).replace('v1', 'v2 (augmented)')   \n",
    "\n",
    "            print(imgpath)\n",
    "            print(filename_stripped)\n",
    "            print(outputfilepath)\n",
    "\n",
    "\n",
    "            # 1 Default img\n",
    "            defaultimg = imageio.imread(imgpath)\n",
    "            img1 = cv2.resize(defaultimg, (220, 380))\n",
    "            img = cv2.cvtColor(img1, cv2.COLOR_BGR2RGB)\n",
    "            cv2.imwrite(outputfilepath + \".jpg\", img)\n",
    "\n",
    "            # 2 Rotate\n",
    "            rotate=iaa.Affine(rotate=(-30, 30))\n",
    "            rotated_image=rotate.augment_image(img)\n",
    "            cv2.imwrite(outputfilepath + \"_rotated.jpg\", rotated_image)\n",
    "            \n",
    "            # 3 Rotate\n",
    "            rotate=iaa.Affine(rotate=(30, -30))\n",
    "            rotated_image=rotate.augment_image(img)\n",
    "            cv2.imwrite(outputfilepath + \"_rotated_2.jpg\", rotated_image)\n",
    "\n",
    "            rotate=iaa.Affine(rotate=(-50, 50))\n",
    "            rotated_image=rotate.augment_image(img)\n",
    "            cv2.imwrite(outputfilepath + \"_rotated_3.jpg\", rotated_image)\n",
    "\n",
    "            rotate=iaa.Affine(rotate=(50, -50))\n",
    "            rotated_image=rotate.augment_image(img)\n",
    "            cv2.imwrite(outputfilepath + \"_rotated_4.jpg\", rotated_image)\n",
    "\n",
    "            # 3 Gauss noise\n",
    "            gaussian_noise=iaa.AdditiveGaussianNoise(10,20)\n",
    "            noise_image=gaussian_noise.augment_image(img)\n",
    "            cv2.imwrite(outputfilepath + \"_gauss_noise.jpg\", noise_image)\n",
    "\n",
    "            gaussian_noise=iaa.AdditiveGaussianNoise(20,10)\n",
    "            noise_image=gaussian_noise.augment_image(img)\n",
    "            cv2.imwrite(outputfilepath + \"_gauss_noise_1.jpg\", noise_image)\n",
    "\n",
    "            # 4 Cropping\n",
    "            crop = iaa.Crop(percent=(0, 0.3)) # crop image\n",
    "            crop_image = crop.augment_image(img)\n",
    "            cv2.imwrite(outputfilepath + \"_crop.jpg\", crop_image)\n",
    "\n",
    "            # 5 Shearing\n",
    "            shear = iaa.Affine(shear=(5))\n",
    "            shear_image = shear.augment_image(img)\n",
    "            cv2.imwrite(outputfilepath + \"_shear.jpg\", shear_image)\n",
    "\n",
    "            # 6 Flipping horizontally\n",
    "            flip_hr = iaa.Fliplr(p=1.0)\n",
    "            flip_hr_image = flip_hr.augment_image(img)\n",
    "            cv2.imwrite(outputfilepath + \"_flip_hr.jpg\", flip_hr_image)\n",
    "\n",
    "            # 7 Flip vertically\n",
    "            flip_vr = iaa.Flipud(p=1.0)\n",
    "            flip_vr_image= flip_vr.augment_image(img)\n",
    "            cv2.imwrite(outputfilepath + \"_flip_vr.jpg\", flip_vr_image)\n",
    "\n",
    "            # 8 Change brightness\n",
    "            contrast = iaa.GammaContrast(gamma=2.0)\n",
    "            contrast_image = contrast.augment_image(img)\n",
    "            cv2.imwrite(outputfilepath + \"_constrast.jpg\", contrast_image)\n",
    "\n",
    "            # 9 Scaling image\n",
    "            scale_im = iaa.Affine(scale={\"x\": (1.5, 1.0), \"y\": (1.5, 1.0)})\n",
    "            scale_image = scale_im.augment_image(img)\n",
    "            cv2.imwrite(outputfilepath + \"_scaled.jpg\", scale_image)\n",
    "\n",
    "            # 10 Blur image\n",
    "            blurred_img = cv2.blur(img, (5, 5))\n",
    "            cv2.imwrite(outputfilepath + \"_blurred.jpg\", blurred_img)\n",
    "\n",
    "            blurred_img = cv2.blur(img, (3, 3))\n",
    "            cv2.imwrite(outputfilepath + \"_blurred3.jpg\", blurred_img)\n",
    "            "
   ]
  },
  {
   "cell_type": "markdown",
   "metadata": {},
   "source": [
    "#### Data Division Train - Validation - Test"
   ]
  },
  {
   "cell_type": "code",
   "execution_count": null,
   "metadata": {},
   "outputs": [],
   "source": [
    "%pip install split-folders\n",
    "import os\n",
    "import splitfolders\n",
    "input_folder = os.path.dirname(\"Resize tubes Organize 220x380/\")\n",
    "\n",
    "output = \"output_path_no_Plain_220x380v3\"\n",
    "\n",
    "splitfolders.ratio(input_folder, output=output, seed=42, ratio=(.7, .2, .1), group_prefix=None)\n",
    "\n",
    "\n",
    "# splitfolders.fixed(input_folder, output=output, seed=1337, fixed=(70,10,5), oversample=False, group_prefix=None, move=False)"
   ]
  },
  {
   "cell_type": "markdown",
   "metadata": {},
   "source": [
    "#### Model Training Preparation"
   ]
  },
  {
   "cell_type": "code",
   "execution_count": 7,
   "metadata": {},
   "outputs": [],
   "source": [
    "# %pip install keras\n",
    "# %pip install tensorflow\n",
    "# %pip install image_dataset_loader\n",
    "\n",
    "import keras\n",
    "import os\n",
    "from keras.models import *\n",
    "from keras.layers import *\n",
    "from keras.datasets import cifar10\n",
    "from keras.optimizers import *\n",
    "from keras.preprocessing.image import ImageDataGenerator\n",
    "from matplotlib import pyplot as plt\n",
    "from keras.utils import *\n",
    "from keras.applications.vgg16 import VGG16\n",
    "from image_dataset_loader import load\n",
    "\n",
    "\n",
    "# train_data_dir = os.path.dirname(\"output_path_no_Plain_220x380v3/train/\")\n",
    "# validation_data_dir = os.path.dirname(\"output_path_no_Plain_220x380v3/val/\")\n",
    "# test_data_dir = os.path.dirname(\"output_path_no_Plain_220x380v3/test/\")\n",
    "\n",
    "\n",
    "train_data_dir = os.path.dirname(\"output_path/train/\")\n",
    "validation_data_dir = os.path.dirname(\"output_path/val/\")\n",
    "test_data_dir = os.path.dirname(\"output_path/test/\")"
   ]
  },
  {
   "cell_type": "code",
   "execution_count": 8,
   "metadata": {},
   "outputs": [
    {
     "name": "stdout",
     "output_type": "stream",
     "text": [
      "Found 816 images belonging to 7 classes.\n",
      "Found 101 images belonging to 7 classes.\n",
      "<keras.preprocessing.image.DirectoryIterator object at 0x000001650A0A5850>\n",
      "<keras.preprocessing.image.DirectoryIterator object at 0x0000016504588D90>\n"
     ]
    }
   ],
   "source": [
    "\n",
    "img_width, img_height = 224, 224\n",
    "batch_size = 28\n",
    "\n",
    "datagenerate_train = ImageDataGenerator(rescale=1.0/255, samplewise_center=True)\n",
    "                                \n",
    "train_generator = datagenerate_train.flow_from_directory(train_data_dir,\n",
    "                                                target_size=(img_width,img_height),\n",
    "                                                 batch_size=batch_size,\n",
    "                                                 #subset=\"training\",\n",
    "                                                 class_mode='categorical')\n",
    "\n",
    "datagenerate_validation = ImageDataGenerator(rescale=1.0/255, samplewise_center=True)\n",
    "\n",
    "validation_generator = datagenerate_validation.flow_from_directory(validation_data_dir,\n",
    "                                                        target_size=(img_width,img_height),\n",
    "                                                        batch_size=batch_size,\n",
    "                                                        #subset=\"validation\",\n",
    "                                                        class_mode='categorical')\n",
    "\n",
    "\n",
    "print(train_generator)\n",
    "print(validation_generator)\n",
    "# print(test_generator)"
   ]
  },
  {
   "cell_type": "markdown",
   "metadata": {},
   "source": [
    "#### The Model"
   ]
  },
  {
   "cell_type": "code",
   "execution_count": 9,
   "metadata": {},
   "outputs": [
    {
     "name": "stdout",
     "output_type": "stream",
     "text": [
      "Model: \"model_1\"\n",
      "_________________________________________________________________\n",
      " Layer (type)                Output Shape              Param #   \n",
      "=================================================================\n",
      " input_2 (InputLayer)        [(None, 224, 224, 3)]     0         \n",
      "                                                                 \n",
      " block1_conv1 (Conv2D)       (None, 224, 224, 64)      1792      \n",
      "                                                                 \n",
      " block1_conv2 (Conv2D)       (None, 224, 224, 64)      36928     \n",
      "                                                                 \n",
      " block1_pool (MaxPooling2D)  (None, 112, 112, 64)      0         \n",
      "                                                                 \n",
      " block2_conv1 (Conv2D)       (None, 112, 112, 128)     73856     \n",
      "                                                                 \n",
      " block2_conv2 (Conv2D)       (None, 112, 112, 128)     147584    \n",
      "                                                                 \n",
      " block2_pool (MaxPooling2D)  (None, 56, 56, 128)       0         \n",
      "                                                                 \n",
      " block3_conv1 (Conv2D)       (None, 56, 56, 256)       295168    \n",
      "                                                                 \n",
      " block3_conv2 (Conv2D)       (None, 56, 56, 256)       590080    \n",
      "                                                                 \n",
      " block3_conv3 (Conv2D)       (None, 56, 56, 256)       590080    \n",
      "                                                                 \n",
      " block3_pool (MaxPooling2D)  (None, 28, 28, 256)       0         \n",
      "                                                                 \n",
      " block4_conv1 (Conv2D)       (None, 28, 28, 512)       1180160   \n",
      "                                                                 \n",
      " block4_conv2 (Conv2D)       (None, 28, 28, 512)       2359808   \n",
      "                                                                 \n",
      " block4_conv3 (Conv2D)       (None, 28, 28, 512)       2359808   \n",
      "                                                                 \n",
      " block4_pool (MaxPooling2D)  (None, 14, 14, 512)       0         \n",
      "                                                                 \n",
      " block5_conv1 (Conv2D)       (None, 14, 14, 512)       2359808   \n",
      "                                                                 \n",
      " block5_conv2 (Conv2D)       (None, 14, 14, 512)       2359808   \n",
      "                                                                 \n",
      " block5_conv3 (Conv2D)       (None, 14, 14, 512)       2359808   \n",
      "                                                                 \n",
      " block5_pool (MaxPooling2D)  (None, 7, 7, 512)         0         \n",
      "                                                                 \n",
      " flatten_1 (Flatten)         (None, 25088)             0         \n",
      "                                                                 \n",
      " dense_2 (Dense)             (None, 128)               3211392   \n",
      "                                                                 \n",
      " dense_3 (Dense)             (None, 7)                 903       \n",
      "                                                                 \n",
      "=================================================================\n",
      "Total params: 17,926,983\n",
      "Trainable params: 3,212,295\n",
      "Non-trainable params: 14,714,688\n",
      "_________________________________________________________________\n"
     ]
    }
   ],
   "source": [
    "def define_VGGmodel():\n",
    "\n",
    "    model = VGG16(include_top=False, input_shape=(img_width, img_height, 3))\n",
    "\n",
    "    for layer in model.layers:\n",
    "        layer.trainable = False\n",
    "\n",
    "    flat1 = Flatten()(model.layers[-1].output)\n",
    "\n",
    "    class1 = Dense(128, activation='relu', kernel_initializer='he_uniform')(flat1)\n",
    "\n",
    "    output = Dense(7, activation='softmax')(class1)\n",
    "\n",
    "    model = Model(inputs=model.inputs, outputs=output)\n",
    "\n",
    "    #opt = SGD(lr=0.001, momentum=0.9)\n",
    "\n",
    "    model.compile(optimizer='Adam', loss='categorical_crossentropy', metrics=['categorical_accuracy'])\n",
    "    \n",
    "    return model\n",
    "\n",
    "model = define_VGGmodel()\n",
    "model.summary()"
   ]
  },
  {
   "cell_type": "code",
   "execution_count": 11,
   "metadata": {},
   "outputs": [],
   "source": [
    "from keras import callbacks\n",
    "earlystopping = callbacks.EarlyStopping(monitor =\"val_loss\", \n",
    "                                        mode =\"min\", patience = 5, \n",
    "                                        restore_best_weights = True)"
   ]
  },
  {
   "cell_type": "code",
   "execution_count": 12,
   "metadata": {},
   "outputs": [
    {
     "name": "stdout",
     "output_type": "stream",
     "text": [
      "Epoch 1/20\n",
      "30/30 [==============================] - 87s 3s/step - loss: 2.8826 - categorical_accuracy: 0.2132 - val_loss: 1.7610 - val_categorical_accuracy: 0.2772\n",
      "Epoch 2/20\n",
      "30/30 [==============================] - 85s 3s/step - loss: 1.5195 - categorical_accuracy: 0.4118 - val_loss: 1.4664 - val_categorical_accuracy: 0.3762\n",
      "Epoch 3/20\n",
      "30/30 [==============================] - 82s 3s/step - loss: 1.1327 - categorical_accuracy: 0.6998 - val_loss: 1.1365 - val_categorical_accuracy: 0.6634\n",
      "Epoch 4/20\n",
      "30/30 [==============================] - 80s 3s/step - loss: 0.8550 - categorical_accuracy: 0.8297 - val_loss: 0.9714 - val_categorical_accuracy: 0.7426\n",
      "Epoch 5/20\n",
      "30/30 [==============================] - 82s 3s/step - loss: 0.6739 - categorical_accuracy: 0.8725 - val_loss: 0.8603 - val_categorical_accuracy: 0.7327\n",
      "Epoch 6/20\n",
      "30/30 [==============================] - 80s 3s/step - loss: 0.5375 - categorical_accuracy: 0.8909 - val_loss: 0.7018 - val_categorical_accuracy: 0.8713\n",
      "Epoch 7/20\n",
      "30/30 [==============================] - 79s 3s/step - loss: 0.4243 - categorical_accuracy: 0.9277 - val_loss: 0.6256 - val_categorical_accuracy: 0.8416\n",
      "Epoch 8/20\n",
      "30/30 [==============================] - 80s 3s/step - loss: 0.3339 - categorical_accuracy: 0.9522 - val_loss: 0.5824 - val_categorical_accuracy: 0.8416\n",
      "Epoch 9/20\n",
      "30/30 [==============================] - 80s 3s/step - loss: 0.2777 - categorical_accuracy: 0.9669 - val_loss: 0.4947 - val_categorical_accuracy: 0.8713\n",
      "Epoch 10/20\n",
      "30/30 [==============================] - 81s 3s/step - loss: 0.2219 - categorical_accuracy: 0.9816 - val_loss: 0.4690 - val_categorical_accuracy: 0.9109\n",
      "Epoch 11/20\n",
      "30/30 [==============================] - 80s 3s/step - loss: 0.1745 - categorical_accuracy: 0.9890 - val_loss: 0.4478 - val_categorical_accuracy: 0.8515\n",
      "Epoch 12/20\n",
      "30/30 [==============================] - 80s 3s/step - loss: 0.1473 - categorical_accuracy: 0.9975 - val_loss: 0.3961 - val_categorical_accuracy: 0.8911\n",
      "Epoch 13/20\n",
      "30/30 [==============================] - 81s 3s/step - loss: 0.1226 - categorical_accuracy: 0.9951 - val_loss: 0.3898 - val_categorical_accuracy: 0.9109\n",
      "Epoch 14/20\n",
      "30/30 [==============================] - 80s 3s/step - loss: 0.1050 - categorical_accuracy: 0.9975 - val_loss: 0.3543 - val_categorical_accuracy: 0.9109\n",
      "Epoch 15/20\n",
      "30/30 [==============================] - 81s 3s/step - loss: 0.0876 - categorical_accuracy: 0.9988 - val_loss: 0.3392 - val_categorical_accuracy: 0.8911\n",
      "Epoch 16/20\n",
      "30/30 [==============================] - 81s 3s/step - loss: 0.0740 - categorical_accuracy: 0.9988 - val_loss: 0.3395 - val_categorical_accuracy: 0.8812\n",
      "Epoch 17/20\n",
      "30/30 [==============================] - 87s 3s/step - loss: 0.0651 - categorical_accuracy: 1.0000 - val_loss: 0.3187 - val_categorical_accuracy: 0.9208\n",
      "Epoch 18/20\n",
      "30/30 [==============================] - 81s 3s/step - loss: 0.0617 - categorical_accuracy: 1.0000 - val_loss: 0.3216 - val_categorical_accuracy: 0.8812\n",
      "Epoch 19/20\n",
      "30/30 [==============================] - 80s 3s/step - loss: 0.0498 - categorical_accuracy: 1.0000 - val_loss: 0.3154 - val_categorical_accuracy: 0.8812\n",
      "Epoch 20/20\n",
      "30/30 [==============================] - 81s 3s/step - loss: 0.0437 - categorical_accuracy: 1.0000 - val_loss: 0.3250 - val_categorical_accuracy: 0.9010\n"
     ]
    }
   ],
   "source": [
    "history = model.fit(train_generator, steps_per_epoch=len(train_generator), validation_data=validation_generator,\n",
    " validation_steps=len(validation_generator), epochs=20, verbose=1, shuffle=False, callbacks=[earlystopping])"
   ]
  },
  {
   "cell_type": "code",
   "execution_count": 13,
   "metadata": {},
   "outputs": [
    {
     "name": "stdout",
     "output_type": "stream",
     "text": [
      "{'loss': [2.882565975189209, 1.5194791555404663, 1.1327366828918457, 0.8550347685813904, 0.6738737225532532, 0.5374535322189331, 0.42425525188446045, 0.3338940143585205, 0.27769342064857483, 0.22190436720848083, 0.17446686327457428, 0.14725792407989502, 0.1226036474108696, 0.1049560010433197, 0.087623231112957, 0.07395507395267487, 0.06513470411300659, 0.0616726316511631, 0.0498480498790741, 0.043675608932971954], 'categorical_accuracy': [0.2132352888584137, 0.4117647111415863, 0.6997548937797546, 0.8296568393707275, 0.8725489974021912, 0.8909313678741455, 0.9276960492134094, 0.9522058963775635, 0.966911792755127, 0.9816176295280457, 0.9889705777168274, 0.9975489974021912, 0.9950980544090271, 0.9975489974021912, 0.998774528503418, 0.998774528503418, 1.0, 1.0, 1.0, 1.0], 'val_loss': [1.7610087394714355, 1.4664227962493896, 1.136460542678833, 0.9714139699935913, 0.8603437542915344, 0.7017602324485779, 0.6255902647972107, 0.5824043154716492, 0.49471667408943176, 0.46903523802757263, 0.44778385758399963, 0.3960905969142914, 0.3898434638977051, 0.3543257713317871, 0.33916419744491577, 0.3394950330257416, 0.31873181462287903, 0.32155048847198486, 0.31542450189590454, 0.3250230550765991], 'val_categorical_accuracy': [0.2772277295589447, 0.3762376308441162, 0.6633663177490234, 0.7425742745399475, 0.7326732873916626, 0.8712871074676514, 0.8415841460227966, 0.8415841460227966, 0.8712871074676514, 0.9108911156654358, 0.8514851331710815, 0.8910890817642212, 0.9108911156654358, 0.9108911156654358, 0.8910890817642212, 0.8811880946159363, 0.9207921028137207, 0.8811880946159363, 0.8811880946159363, 0.9009901285171509]}\n"
     ]
    }
   ],
   "source": [
    "print(history.history)"
   ]
  },
  {
   "cell_type": "markdown",
   "metadata": {},
   "source": [
    "#### Diagnostic plot"
   ]
  },
  {
   "cell_type": "code",
   "execution_count": 14,
   "metadata": {},
   "outputs": [
    {
     "data": {
      "image/png": "[encoded data removed]",
      "text/plain": [
       "<Figure size 432x288 with 1 Axes>"
      ]
     },
     "metadata": {
      "needs_background": "light"
     },
     "output_type": "display_data"
    }
   ],
   "source": [
    "plt.plot(history.history['categorical_accuracy'])\n",
    "plt.plot(history.history['val_categorical_accuracy'])\n",
    "plt.title('Model Accuracy')\n",
    "plt.ylabel('Accuracy')\n",
    "plt.xlabel('Epoch')\n",
    "plt.legend(['Train', 'Val_loss'], loc='upper left')\n",
    "plt.show()"
   ]
  },
  {
   "cell_type": "code",
   "execution_count": 15,
   "metadata": {},
   "outputs": [
    {
     "data": {
      "image/png": "[encoded data removed]",
      "text/plain": [
       "<Figure size 432x288 with 1 Axes>"
      ]
     },
     "metadata": {
      "needs_background": "light"
     },
     "output_type": "display_data"
    }
   ],
   "source": [
    "\n",
    "plt.plot(history.history['loss'])\n",
    "plt.plot(history.history['val_loss'])\n",
    "plt.title('Model Loss')\n",
    "plt.ylabel('Loss')\n",
    "plt.xlabel('Epoch')\n",
    "plt.legend(['Loss', 'Val_loss'], loc='upper right')\n",
    "plt.show()"
   ]
  },
  {
   "cell_type": "code",
   "execution_count": 16,
   "metadata": {},
   "outputs": [
    {
     "name": "stdout",
     "output_type": "stream",
     "text": [
      "Validation image - evaluation\n",
      "4/4 [==============================] - 10s 2s/step - loss: 0.3250 - categorical_accuracy: 0.9010\n",
      "accuracy score:  90.09901285171509\n"
     ]
    }
   ],
   "source": [
    "print('Validation image - evaluation')\n",
    "_, acc = model.evaluate(validation_generator, steps=len(validation_generator), verbose=1)\n",
    "print('accuracy score: ', acc*100 )"
   ]
  },
  {
   "cell_type": "code",
   "execution_count": 17,
   "metadata": {},
   "outputs": [],
   "source": [
    "# print('Test image - evaluation')\n",
    "# _, acc = model.evaluate(test_generator, steps=len(test_generator), verbose=1)\n",
    "# print('accuracy score: ', acc*100 )"
   ]
  },
  {
   "cell_type": "markdown",
   "metadata": {},
   "source": [
    "#### Testing"
   ]
  },
  {
   "cell_type": "code",
   "execution_count": 18,
   "metadata": {},
   "outputs": [
    {
     "name": "stdout",
     "output_type": "stream",
     "text": [
      "Found 103 images belonging to 7 classes.\n"
     ]
    }
   ],
   "source": [
    "import numpy as np\n",
    "from sklearn.metrics import confusion_matrix\n",
    "from sklearn import metrics\n",
    "# test_data_dir = os.path.dirname(\"output_path_no_Plain_220x380v1/train-test/\")\n",
    "\n",
    "datagenerate_test = ImageDataGenerator(rescale=1.0/255, samplewise_center=True)\n",
    "\n",
    "test_generator = datagenerate_test.flow_from_directory(test_data_dir,\n",
    "                                                target_size=(img_width,img_height),\n",
    "                                                batch_size=batch_size,\n",
    "                                                #subset=\"validation\",\n",
    "                                                class_mode='categorical')"
   ]
  },
  {
   "cell_type": "code",
   "execution_count": 19,
   "metadata": {},
   "outputs": [
    {
     "name": "stdout",
     "output_type": "stream",
     "text": [
      "Test image - evaluation\n",
      "4/4 [==============================] - 9s 2s/step - loss: 0.2666 - categorical_accuracy: 0.9320\n",
      "accuracy score:  93.20388436317444\n"
     ]
    }
   ],
   "source": [
    "print('Test image - evaluation')\n",
    "_, acc = model.evaluate(test_generator, steps=len(test_generator), verbose=1)\n",
    "print('accuracy score: ', acc*100 )"
   ]
  },
  {
   "cell_type": "code",
   "execution_count": 35,
   "metadata": {},
   "outputs": [
    {
     "name": "stdout",
     "output_type": "stream",
     "text": [
      "4/4 [==============================] - 9s 2s/step\n",
      "accuracy:  0.1553398058252427\n"
     ]
    }
   ],
   "source": [
    "\n",
    "Y_pred = model.predict(test_generator)\n",
    "y_pred = np.argmax(Y_pred, axis=1)\n",
    "print('accuracy: ', metrics.accuracy_score(y_pred,test_generator.classes))"
   ]
  },
  {
   "cell_type": "code",
   "execution_count": 36,
   "metadata": {},
   "outputs": [
    {
     "name": "stdout",
     "output_type": "stream",
     "text": [
      "Confusion Matrix\n",
      "[[2 2 2 3 1 3 2]\n",
      " [4 3 4 2 2 0 2]\n",
      " [1 4 0 1 2 3 0]\n",
      " [1 1 2 0 1 2 1]\n",
      " [1 3 3 1 3 4 3]\n",
      " [3 4 1 1 5 4 2]\n",
      " [2 1 0 1 4 2 4]]\n"
     ]
    }
   ],
   "source": [
    "print('Confusion Matrix')\n",
    "print(confusion_matrix(y_pred, test_generator.classes))"
   ]
  },
  {
   "cell_type": "code",
   "execution_count": 37,
   "metadata": {},
   "outputs": [
    {
     "data": {
      "text/plain": [
       "<sklearn.metrics._plot.confusion_matrix.ConfusionMatrixDisplay at 0x1651675dd60>"
      ]
     },
     "execution_count": 37,
     "metadata": {},
     "output_type": "execute_result"
    },
    {
     "data": {
      "image/png": "[encoded data removed]",
      "text/plain": [
       "<Figure size 720x720 with 2 Axes>"
      ]
     },
     "metadata": {
      "needs_background": "light"
     },
     "output_type": "display_data"
    }
   ],
   "source": [
    "import seaborn as sns\n",
    "from sklearn.metrics import confusion_matrix, ConfusionMatrixDisplay\n",
    "\n",
    "cm = confusion_matrix(y_pred, test_generator.classes)\n",
    "cmd = ConfusionMatrixDisplay(cm, display_labels=[ 'BD-Vacutainer', 'EDTA(K2)', 'Monovette','SGS', 'Vacuette' , 'Vacutest', 'Venosafe'])\n",
    "fig, ax = plt.subplots(figsize=(10,10))\n",
    "plt.grid(False)\n",
    "cmd.plot(ax=ax)"
   ]
  },
  {
   "cell_type": "code",
   "execution_count": 40,
   "metadata": {},
   "outputs": [
    {
     "name": "stdout",
     "output_type": "stream",
     "text": [
      "Accuracy Score : 0.1553398058252427\n",
      "Report : \n",
      "               precision    recall  f1-score   support\n",
      "\n",
      "BD-Vacutainer       0.14      0.13      0.14        15\n",
      "     EDTA(K2)       0.17      0.18      0.17        17\n",
      "    Monovette       0.00      0.00      0.00        11\n",
      "          SGS       0.00      0.00      0.00         8\n",
      "     Vacuette       0.17      0.17      0.17        18\n",
      "     Vacutest       0.22      0.20      0.21        20\n",
      "     Venosafe       0.29      0.29      0.29        14\n",
      "\n",
      "     accuracy                           0.16       103\n",
      "    macro avg       0.14      0.14      0.14       103\n",
      " weighted avg       0.16      0.16      0.16       103\n",
      "\n"
     ]
    }
   ],
   "source": [
    "from sklearn.metrics import accuracy_score\n",
    "from sklearn.metrics import classification_report\n",
    "\n",
    "print('Accuracy Score :', (accuracy_score(y_pred, test_generator.classes))*100) \n",
    "print ('Report : ')\n",
    "target_names = ['BD-Vacutainer', 'EDTA(K2)', 'Monovette', 'SGS', 'Vacuette' , 'Vacutest', 'Venosafe']\n",
    "print (classification_report(y_pred, test_generator.classes, target_names=target_names)) "
   ]
  },
  {
   "cell_type": "markdown",
   "metadata": {},
   "source": [
    "The Accuracy score is 15.53%, this could be due to the image. One of the plausible issues i can think of that cause such a low accuracy is the fact that maybe the augmented image type has not been since by the model.\n"
   ]
  }
 ],
 "metadata": {
  "kernelspec": {
   "display_name": "Python 3.9.12 64-bit",
   "language": "python",
   "name": "python3"
  },
  "language_info": {
   "codemirror_mode": {
    "name": "ipython",
    "version": 3
   },
   "file_extension": ".py",
   "mimetype": "text/x-python",
   "name": "python",
   "nbconvert_exporter": "python",
   "pygments_lexer": "ipython3",
   "version": "3.9.12"
  },
  "orig_nbformat": 4,
  "vscode": {
   "interpreter": {
    "hash": "fa5d115fa710d7eb103ffbd6b5d38db487e39deec5c3097f3f1ac85e2ee2f5aa"
   }
  }
 },
 "nbformat": 4,
 "nbformat_minor": 2
}
