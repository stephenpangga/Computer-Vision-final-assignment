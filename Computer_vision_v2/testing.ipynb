{
 "cells": [
  {
   "cell_type": "code",
   "execution_count": 63,
   "metadata": {},
   "outputs": [],
   "source": [
    "# %pip install keras\n",
    "# %pip install tensorflow\n",
    "# %pip install image_dataset_loader\n",
    "\n",
    "import keras\n",
    "import os\n",
    "from keras.models import *\n",
    "from keras.layers import *\n",
    "from keras.datasets import cifar10\n",
    "from keras.optimizers import *\n",
    "from keras.preprocessing.image import ImageDataGenerator\n",
    "from matplotlib import pyplot as plt\n",
    "from keras.utils import *\n",
    "from keras.applications.vgg16 import VGG16\n",
    "from keras.applications.vgg19 import VGG19\n",
    "\n",
    "from image_dataset_loader import load\n",
    "\n",
    "\n",
    "# train_data_dir = os.path.dirname(\"output_path_no_Plain_220x380v3/train/\")\n",
    "# validation_data_dir = os.path.dirname(\"output_path_no_Plain_220x380v3/val/\")\n",
    "# test_data_dir = os.path.dirname(\"output_path_no_Plain_220x380v3/test/\")\n",
    "\n",
    "\n",
    "train_data_dir = os.path.dirname(\"output_path/train/\")\n",
    "validation_data_dir = os.path.dirname(\"output_path/val/\")\n",
    "test_data_dir = os.path.dirname(\"output_path/test/\")"
   ]
  },
  {
   "cell_type": "code",
   "execution_count": 64,
   "metadata": {},
   "outputs": [
    {
     "name": "stdout",
     "output_type": "stream",
     "text": [
      "Found 816 images belonging to 7 classes.\n",
      "Found 101 images belonging to 7 classes.\n",
      "<keras.preprocessing.image.DirectoryIterator object at 0x00000141535EB0A0>\n",
      "<keras.preprocessing.image.DirectoryIterator object at 0x0000014151FE7FA0>\n"
     ]
    }
   ],
   "source": [
    "\n",
    "img_width, img_height = 224, 224\n",
    "batch_size = 16\n",
    "\n",
    "datagenerate_train = ImageDataGenerator(rescale=1.0/255, samplewise_center=True)\n",
    "                                \n",
    "train_generator = datagenerate_train.flow_from_directory(train_data_dir,\n",
    "                                                target_size=(img_width,img_height),\n",
    "                                                 batch_size=batch_size,\n",
    "                                                 #subset=\"training\",\n",
    "                                                 class_mode='categorical',\n",
    "                                                 shuffle = True)\n",
    "\n",
    "datagenerate_validation = ImageDataGenerator(rescale=1.0/255, samplewise_center=True)\n",
    "\n",
    "validation_generator = datagenerate_validation.flow_from_directory(validation_data_dir,\n",
    "                                                        target_size=(img_width,img_height),\n",
    "                                                        batch_size=batch_size,\n",
    "                                                        #subset=\"validation\",\n",
    "                                                        class_mode='categorical',\n",
    "                                                        shuffle = True)\n",
    "\n",
    "\n",
    "print(train_generator)\n",
    "print(validation_generator)\n",
    "# print(test_generator)"
   ]
  },
  {
   "cell_type": "markdown",
   "metadata": {},
   "source": [
    "# The Model"
   ]
  },
  {
   "cell_type": "code",
   "execution_count": 65,
   "metadata": {},
   "outputs": [
    {
     "name": "stdout",
     "output_type": "stream",
     "text": [
      "Model: \"model\"\n",
      "_________________________________________________________________\n",
      " Layer (type)                Output Shape              Param #   \n",
      "=================================================================\n",
      " input_1 (InputLayer)        [(None, 224, 224, 3)]     0         \n",
      "                                                                 \n",
      " block1_conv1 (Conv2D)       (None, 224, 224, 64)      1792      \n",
      "                                                                 \n",
      " block1_conv2 (Conv2D)       (None, 224, 224, 64)      36928     \n",
      "                                                                 \n",
      " block1_pool (MaxPooling2D)  (None, 112, 112, 64)      0         \n",
      "                                                                 \n",
      " block2_conv1 (Conv2D)       (None, 112, 112, 128)     73856     \n",
      "                                                                 \n",
      " block2_conv2 (Conv2D)       (None, 112, 112, 128)     147584    \n",
      "                                                                 \n",
      " block2_pool (MaxPooling2D)  (None, 56, 56, 128)       0         \n",
      "                                                                 \n",
      " block3_conv1 (Conv2D)       (None, 56, 56, 256)       295168    \n",
      "                                                                 \n",
      " block3_conv2 (Conv2D)       (None, 56, 56, 256)       590080    \n",
      "                                                                 \n",
      " block3_conv3 (Conv2D)       (None, 56, 56, 256)       590080    \n",
      "                                                                 \n",
      " block3_conv4 (Conv2D)       (None, 56, 56, 256)       590080    \n",
      "                                                                 \n",
      " block3_pool (MaxPooling2D)  (None, 28, 28, 256)       0         \n",
      "                                                                 \n",
      " block4_conv1 (Conv2D)       (None, 28, 28, 512)       1180160   \n",
      "                                                                 \n",
      " block4_conv2 (Conv2D)       (None, 28, 28, 512)       2359808   \n",
      "                                                                 \n",
      " block4_conv3 (Conv2D)       (None, 28, 28, 512)       2359808   \n",
      "                                                                 \n",
      " block4_conv4 (Conv2D)       (None, 28, 28, 512)       2359808   \n",
      "                                                                 \n",
      " block4_pool (MaxPooling2D)  (None, 14, 14, 512)       0         \n",
      "                                                                 \n",
      " block5_conv1 (Conv2D)       (None, 14, 14, 512)       2359808   \n",
      "                                                                 \n",
      " block5_conv2 (Conv2D)       (None, 14, 14, 512)       2359808   \n",
      "                                                                 \n",
      " block5_conv3 (Conv2D)       (None, 14, 14, 512)       2359808   \n",
      "                                                                 \n",
      " block5_conv4 (Conv2D)       (None, 14, 14, 512)       2359808   \n",
      "                                                                 \n",
      " block5_pool (MaxPooling2D)  (None, 7, 7, 512)         0         \n",
      "                                                                 \n",
      " flatten (Flatten)           (None, 25088)             0         \n",
      "                                                                 \n",
      " dense (Dense)               (None, 128)               3211392   \n",
      "                                                                 \n",
      " dense_1 (Dense)             (None, 7)                 903       \n",
      "                                                                 \n",
      "=================================================================\n",
      "Total params: 23,236,679\n",
      "Trainable params: 3,212,295\n",
      "Non-trainable params: 20,024,384\n",
      "_________________________________________________________________\n"
     ]
    }
   ],
   "source": [
    "def define_VGGmodel():\n",
    "\n",
    "    model = VGG19(include_top=False, input_shape=(img_width, img_height, 3))\n",
    "\n",
    "    for layer in model.layers:\n",
    "        layer.trainable = False\n",
    "\n",
    "    flat1 = Flatten()(model.layers[-1].output)\n",
    "\n",
    "    class1 = Dense(128, activation='relu', kernel_initializer='he_uniform')(flat1)\n",
    "\n",
    "    output = Dense(7, activation='softmax')(class1)\n",
    "\n",
    "    model = Model(inputs=model.inputs, outputs=output)\n",
    "\n",
    "    # opt = SGD(lr=0.001, momentum=0.9)\n",
    "\n",
    "    model.compile(optimizer=\"Adam\", loss='categorical_crossentropy', metrics=['categorical_accuracy'])\n",
    "    \n",
    "    return model\n",
    "\n",
    "model = define_VGGmodel()\n",
    "model.summary()"
   ]
  },
  {
   "cell_type": "code",
   "execution_count": 66,
   "metadata": {},
   "outputs": [],
   "source": [
    "from keras import callbacks\n",
    "earlystopping = callbacks.EarlyStopping(monitor =\"val_loss\", \n",
    "                                        mode =\"min\", patience = 5, \n",
    "                                        restore_best_weights = True)"
   ]
  },
  {
   "cell_type": "code",
   "execution_count": 67,
   "metadata": {},
   "outputs": [
    {
     "name": "stdout",
     "output_type": "stream",
     "text": [
      "Epoch 1/25\n",
      "51/51 [==============================] - 107s 2s/step - loss: 2.7740 - categorical_accuracy: 0.3284 - val_loss: 1.4267 - val_categorical_accuracy: 0.3762\n",
      "Epoch 2/25\n",
      "51/51 [==============================] - 103s 2s/step - loss: 0.9062 - categorical_accuracy: 0.7304 - val_loss: 0.8303 - val_categorical_accuracy: 0.7228\n",
      "Epoch 3/25\n",
      "51/51 [==============================] - 104s 2s/step - loss: 0.5229 - categorical_accuracy: 0.8603 - val_loss: 0.6915 - val_categorical_accuracy: 0.7921\n",
      "Epoch 4/25\n",
      "51/51 [==============================] - 103s 2s/step - loss: 0.3845 - categorical_accuracy: 0.9179 - val_loss: 0.5404 - val_categorical_accuracy: 0.8515\n",
      "Epoch 5/25\n",
      "51/51 [==============================] - 103s 2s/step - loss: 0.2504 - categorical_accuracy: 0.9657 - val_loss: 0.5066 - val_categorical_accuracy: 0.8020\n",
      "Epoch 6/25\n",
      "51/51 [==============================] - 102s 2s/step - loss: 0.2171 - categorical_accuracy: 0.9596 - val_loss: 0.5297 - val_categorical_accuracy: 0.8119\n",
      "Epoch 7/25\n",
      "51/51 [==============================] - 103s 2s/step - loss: 0.1232 - categorical_accuracy: 0.9939 - val_loss: 0.3580 - val_categorical_accuracy: 0.8713\n",
      "Epoch 8/25\n",
      "51/51 [==============================] - 102s 2s/step - loss: 0.1015 - categorical_accuracy: 0.9926 - val_loss: 0.3134 - val_categorical_accuracy: 0.8812\n",
      "Epoch 9/25\n",
      "51/51 [==============================] - 102s 2s/step - loss: 0.0783 - categorical_accuracy: 0.9951 - val_loss: 0.4169 - val_categorical_accuracy: 0.8515\n",
      "Epoch 10/25\n",
      "51/51 [==============================] - 102s 2s/step - loss: 0.0582 - categorical_accuracy: 0.9988 - val_loss: 0.2779 - val_categorical_accuracy: 0.9010\n",
      "Epoch 11/25\n",
      "51/51 [==============================] - 104s 2s/step - loss: 0.0443 - categorical_accuracy: 1.0000 - val_loss: 0.2880 - val_categorical_accuracy: 0.8911\n",
      "Epoch 12/25\n",
      "51/51 [==============================] - 102s 2s/step - loss: 0.0399 - categorical_accuracy: 1.0000 - val_loss: 0.2613 - val_categorical_accuracy: 0.9010\n",
      "Epoch 13/25\n",
      "51/51 [==============================] - 102s 2s/step - loss: 0.0370 - categorical_accuracy: 0.9988 - val_loss: 0.3214 - val_categorical_accuracy: 0.8614\n",
      "Epoch 14/25\n",
      "51/51 [==============================] - 102s 2s/step - loss: 0.0308 - categorical_accuracy: 1.0000 - val_loss: 0.2535 - val_categorical_accuracy: 0.8812\n",
      "Epoch 15/25\n",
      "51/51 [==============================] - 103s 2s/step - loss: 0.0237 - categorical_accuracy: 1.0000 - val_loss: 0.2516 - val_categorical_accuracy: 0.8911\n",
      "Epoch 16/25\n",
      "51/51 [==============================] - 103s 2s/step - loss: 0.0208 - categorical_accuracy: 1.0000 - val_loss: 0.2631 - val_categorical_accuracy: 0.8911\n",
      "Epoch 17/25\n",
      "51/51 [==============================] - 102s 2s/step - loss: 0.0175 - categorical_accuracy: 1.0000 - val_loss: 0.2590 - val_categorical_accuracy: 0.8911\n",
      "Epoch 18/25\n",
      "51/51 [==============================] - 102s 2s/step - loss: 0.0161 - categorical_accuracy: 1.0000 - val_loss: 0.2602 - val_categorical_accuracy: 0.8812\n",
      "Epoch 19/25\n",
      "51/51 [==============================] - 102s 2s/step - loss: 0.0143 - categorical_accuracy: 1.0000 - val_loss: 0.2486 - val_categorical_accuracy: 0.8911\n",
      "Epoch 20/25\n",
      "51/51 [==============================] - 102s 2s/step - loss: 0.0121 - categorical_accuracy: 1.0000 - val_loss: 0.2624 - val_categorical_accuracy: 0.8911\n",
      "Epoch 21/25\n",
      "51/51 [==============================] - 102s 2s/step - loss: 0.0115 - categorical_accuracy: 1.0000 - val_loss: 0.2414 - val_categorical_accuracy: 0.9109\n",
      "Epoch 22/25\n",
      "51/51 [==============================] - 102s 2s/step - loss: 0.0097 - categorical_accuracy: 1.0000 - val_loss: 0.2443 - val_categorical_accuracy: 0.9010\n",
      "Epoch 23/25\n",
      "51/51 [==============================] - 105s 2s/step - loss: 0.0086 - categorical_accuracy: 1.0000 - val_loss: 0.2624 - val_categorical_accuracy: 0.8911\n",
      "Epoch 24/25\n",
      "51/51 [==============================] - 101s 2s/step - loss: 0.0080 - categorical_accuracy: 1.0000 - val_loss: 0.2504 - val_categorical_accuracy: 0.8812\n",
      "Epoch 25/25\n",
      "51/51 [==============================] - 99s 2s/step - loss: 0.0074 - categorical_accuracy: 1.0000 - val_loss: 0.2453 - val_categorical_accuracy: 0.8911\n"
     ]
    }
   ],
   "source": [
    "history = model.fit(train_generator, steps_per_epoch=len(train_generator), validation_data=validation_generator,\n",
    " validation_steps=len(validation_generator), epochs=25 , verbose=1, shuffle=False, callbacks=[earlystopping])"
   ]
  },
  {
   "cell_type": "code",
   "execution_count": 74,
   "metadata": {},
   "outputs": [
    {
     "name": "stdout",
     "output_type": "stream",
     "text": [
      "{'loss': [2.7739646434783936, 0.9061941504478455, 0.5228520035743713, 0.3845042288303375, 0.2504223883152008, 0.21706250309944153, 0.12316638231277466, 0.1014617457985878, 0.07829178124666214, 0.058207619935274124, 0.044297050684690475, 0.03994014114141464, 0.03697099909186363, 0.03082170896232128, 0.023742062970995903, 0.020789748057723045, 0.01747950166463852, 0.01607891172170639, 0.014273565262556076, 0.012062587775290012, 0.011521569453179836, 0.009712629951536655, 0.008554537780582905, 0.008041616529226303, 0.0074010626412928104], 'categorical_accuracy': [0.3284313678741455, 0.7303921580314636, 0.8602941036224365, 0.9178921580314636, 0.9656862616539001, 0.9595588445663452, 0.9938725233078003, 0.9926470518112183, 0.9950980544090271, 0.998774528503418, 1.0, 1.0, 0.998774528503418, 1.0, 1.0, 1.0, 1.0, 1.0, 1.0, 1.0, 1.0, 1.0, 1.0, 1.0, 1.0], 'val_loss': [1.4266644716262817, 0.8302668333053589, 0.6915204524993896, 0.5404296517372131, 0.5065749883651733, 0.529689610004425, 0.35803237557411194, 0.31342753767967224, 0.41693976521492004, 0.27787789702415466, 0.28798818588256836, 0.2612866461277008, 0.32135871052742004, 0.25350522994995117, 0.25156235694885254, 0.2631451189517975, 0.2590177655220032, 0.2601567506790161, 0.2486119419336319, 0.26243099570274353, 0.24140261113643646, 0.24425090849399567, 0.2623951733112335, 0.2503519058227539, 0.24531716108322144], 'val_categorical_accuracy': [0.3762376308441162, 0.7227723002433777, 0.7920792102813721, 0.8514851331710815, 0.801980197429657, 0.8118811845779419, 0.8712871074676514, 0.8811880946159363, 0.8514851331710815, 0.9009901285171509, 0.8910890817642212, 0.9009901285171509, 0.8613861203193665, 0.8811880946159363, 0.8910890817642212, 0.8910890817642212, 0.8910890817642212, 0.8811880946159363, 0.8910890817642212, 0.8910890817642212, 0.9108911156654358, 0.9009901285171509, 0.8910890817642212, 0.8811880946159363, 0.8910890817642212]}\n"
     ]
    }
   ],
   "source": [
    "print(history.history)"
   ]
  },
  {
   "cell_type": "markdown",
   "metadata": {},
   "source": [
    "# Diagnostic plot"
   ]
  },
  {
   "cell_type": "code",
   "execution_count": 75,
   "metadata": {},
   "outputs": [
    {
     "data": {
      "image/png": "[encoded data removed]",
      "text/plain": [
       "<Figure size 432x288 with 1 Axes>"
      ]
     },
     "metadata": {
      "needs_background": "light"
     },
     "output_type": "display_data"
    }
   ],
   "source": [
    "plt.plot(history.history['categorical_accuracy'])\n",
    "plt.plot(history.history['val_categorical_accuracy'])\n",
    "plt.title('Model Accuracy')\n",
    "plt.ylabel('Accuracy')\n",
    "plt.xlabel('Epoch')\n",
    "plt.legend(['Train', 'Val_loss'], loc='upper left')\n",
    "plt.show()"
   ]
  },
  {
   "cell_type": "code",
   "execution_count": 76,
   "metadata": {},
   "outputs": [
    {
     "data": {
      "image/png": "[encoded data removed]",
      "text/plain": [
       "<Figure size 432x288 with 1 Axes>"
      ]
     },
     "metadata": {
      "needs_background": "light"
     },
     "output_type": "display_data"
    }
   ],
   "source": [
    "\n",
    "plt.plot(history.history['loss'])\n",
    "plt.plot(history.history['val_loss'])\n",
    "plt.title('Model Loss')\n",
    "plt.ylabel('Loss')\n",
    "plt.xlabel('Epoch')\n",
    "plt.legend(['Loss', 'Val_loss'], loc='upper right')\n",
    "plt.show()"
   ]
  },
  {
   "cell_type": "code",
   "execution_count": 77,
   "metadata": {},
   "outputs": [
    {
     "name": "stdout",
     "output_type": "stream",
     "text": [
      "Validation image - evaluation\n",
      "7/7 [==============================] - 11s 2s/step - loss: 0.2453 - categorical_accuracy: 0.8911\n",
      "accuracy score:  89.10890817642212\n"
     ]
    }
   ],
   "source": [
    "print('Validation image - evaluation')\n",
    "_, acc = model.evaluate(validation_generator, steps=len(validation_generator), verbose=1)\n",
    "print('accuracy score: ', acc*100 )"
   ]
  },
  {
   "cell_type": "code",
   "execution_count": 93,
   "metadata": {},
   "outputs": [
    {
     "name": "stderr",
     "output_type": "stream",
     "text": [
      "WARNING:absl:Found untraced functions such as _jit_compiled_convolution_op, _jit_compiled_convolution_op, _jit_compiled_convolution_op, _jit_compiled_convolution_op, _jit_compiled_convolution_op while saving (showing 5 of 16). These functions will not be directly callable after loading.\n"
     ]
    },
    {
     "name": "stdout",
     "output_type": "stream",
     "text": [
      "INFO:tensorflow:Assets written to: VGG19-accu-score-92%\\assets\n"
     ]
    },
    {
     "name": "stderr",
     "output_type": "stream",
     "text": [
      "INFO:tensorflow:Assets written to: VGG19-accu-score-92%\\assets\n"
     ]
    }
   ],
   "source": [
    "model.save('VGG19-accu-score-92%')\n",
    "\n",
    "#model=load_model('vgg15-softmax-classifier_train-91.54_val-72.06_test-83.82%')"
   ]
  },
  {
   "cell_type": "code",
   "execution_count": 78,
   "metadata": {},
   "outputs": [],
   "source": [
    "# print('Test image - evaluation')\n",
    "# _, acc = model.evaluate(test_generator, steps=len(test_generator), verbose=1)\n",
    "# print('accuracy score: ', acc*100 )"
   ]
  },
  {
   "cell_type": "markdown",
   "metadata": {},
   "source": [
    "# Testing"
   ]
  },
  {
   "cell_type": "code",
   "execution_count": 80,
   "metadata": {},
   "outputs": [
    {
     "name": "stdout",
     "output_type": "stream",
     "text": [
      "Found 103 images belonging to 7 classes.\n"
     ]
    }
   ],
   "source": [
    "import numpy as np\n",
    "from sklearn.metrics import confusion_matrix\n",
    "from sklearn import metrics\n",
    "# test_data_dir = os.path.dirname(\"output_path_no_Plain_220x380v1/train-test/\")\n",
    "\n",
    "datagenerate_test = ImageDataGenerator(rescale=1.0/255, samplewise_center=True)\n",
    "\n",
    "test_generator = datagenerate_test.flow_from_directory(test_data_dir,\n",
    "                                                target_size=(img_width,img_height),\n",
    "                                                batch_size=batch_size,\n",
    "                                                #subset=\"validation\",\n",
    "                                                class_mode='categorical',\n",
    "                                                shuffle = False)"
   ]
  },
  {
   "cell_type": "code",
   "execution_count": 81,
   "metadata": {},
   "outputs": [],
   "source": [
    "# loaded_model = load_model(\"model/VGG16_adam_train-89.11%_val-89.10_test-91.26v2%\")\n",
    "\n",
    "\n",
    "# from sklearn.metrics import accuracy_score\n",
    "# import seaborn as sns\n",
    "\n",
    "# y_pred=loaded_model.predict(test_generator)\n",
    "# y_pred=np.argmax(y_pred,axis=1)\n",
    "# # accuracy_score(y_pred,test_generator.classes)\n",
    "# print(y_pred)\n",
    "\n",
    "# print(classification_report(y_pred,test_generator.classes))\n",
    "# print('Accuracy Score :',accuracy_score(test_generator.classes, y_pred))"
   ]
  },
  {
   "cell_type": "code",
   "execution_count": 82,
   "metadata": {},
   "outputs": [
    {
     "name": "stdout",
     "output_type": "stream",
     "text": [
      "Test image - evaluation\n",
      "7/7 [==============================] - 11s 2s/step - loss: 0.2774 - categorical_accuracy: 0.9223\n",
      "accuracy score:  92.23300814628601\n"
     ]
    }
   ],
   "source": [
    "print('Test image - evaluation')\n",
    "_, acc = model.evaluate(test_generator, steps=len(test_generator), verbose=1)\n",
    "print('accuracy score: ', acc*100 )"
   ]
  },
  {
   "cell_type": "code",
   "execution_count": 83,
   "metadata": {},
   "outputs": [
    {
     "name": "stdout",
     "output_type": "stream",
     "text": [
      "7/7 [==============================] - 12s 2s/step\n",
      "accuracy:  0.9223300970873787\n"
     ]
    }
   ],
   "source": [
    "\n",
    "Y_pred = model.predict(test_generator)\n",
    "y_pred = np.argmax(Y_pred, axis=1)\n",
    "print('accuracy: ', metrics.accuracy_score(y_pred,test_generator.classes))"
   ]
  },
  {
   "cell_type": "code",
   "execution_count": 84,
   "metadata": {},
   "outputs": [
    {
     "name": "stdout",
     "output_type": "stream",
     "text": [
      "Confusion Matrix\n",
      "[[13  1  0  0  1  1  0]\n",
      " [ 1 16  0  0  1  0  0]\n",
      " [ 0  0 11  0  0  0  0]\n",
      " [ 0  0  0  9  0  0  0]\n",
      " [ 0  0  0  0 16  0  0]\n",
      " [ 0  1  1  0  0 17  1]\n",
      " [ 0  0  0  0  0  0 13]]\n"
     ]
    }
   ],
   "source": [
    "print('Confusion Matrix')\n",
    "print(confusion_matrix(y_pred, test_generator.classes))"
   ]
  },
  {
   "cell_type": "code",
   "execution_count": 85,
   "metadata": {},
   "outputs": [
    {
     "data": {
      "text/plain": [
       "<sklearn.metrics._plot.confusion_matrix.ConfusionMatrixDisplay at 0x14154f152b0>"
      ]
     },
     "execution_count": 85,
     "metadata": {},
     "output_type": "execute_result"
    },
    {
     "data": {
      "image/png": "[encoded data removed]",
      "text/plain": [
       "<Figure size 720x720 with 2 Axes>"
      ]
     },
     "metadata": {
      "needs_background": "light"
     },
     "output_type": "display_data"
    }
   ],
   "source": [
    "import seaborn as sns\n",
    "from sklearn.metrics import confusion_matrix, ConfusionMatrixDisplay\n",
    "\n",
    "cm = confusion_matrix(y_pred, test_generator.classes)\n",
    "cmd = ConfusionMatrixDisplay(cm, display_labels=[ 'BD-Vacutainer', 'EDTA(K2)', 'Monovette','SGS', 'Vacuette' , 'Vacutest', 'Venosafe'])\n",
    "fig, ax = plt.subplots(figsize=(10,10))\n",
    "plt.grid(False)\n",
    "cmd.plot(ax=ax)"
   ]
  },
  {
   "cell_type": "code",
   "execution_count": 86,
   "metadata": {},
   "outputs": [
    {
     "name": "stdout",
     "output_type": "stream",
     "text": [
      "Accuracy Score : 0.9223300970873787\n",
      "Report : \n",
      "               precision    recall  f1-score   support\n",
      "\n",
      "BD-Vacutainer       0.93      0.81      0.87        16\n",
      "     EDTA(K2)       0.89      0.89      0.89        18\n",
      "    Monovette       0.92      1.00      0.96        11\n",
      "          SGS       1.00      1.00      1.00         9\n",
      "     Vacuette       0.89      1.00      0.94        16\n",
      "     Vacutest       0.94      0.85      0.89        20\n",
      "     Venosafe       0.93      1.00      0.96        13\n",
      "\n",
      "     accuracy                           0.92       103\n",
      "    macro avg       0.93      0.94      0.93       103\n",
      " weighted avg       0.92      0.92      0.92       103\n",
      "\n"
     ]
    }
   ],
   "source": [
    "from sklearn.metrics import accuracy_score\n",
    "from sklearn.metrics import classification_report\n",
    "\n",
    "print('Accuracy Score :', accuracy_score(y_pred, test_generator.classes)) \n",
    "print ('Report : ')\n",
    "target_names = ['BD-Vacutainer', 'EDTA(K2)', 'Monovette', 'SGS', 'Vacuette' , 'Vacutest', 'Venosafe']\n",
    "print (classification_report(y_pred, test_generator.classes, target_names=target_names)) "
   ]
  },
  {
   "cell_type": "markdown",
   "metadata": {},
   "source": [
    "The Accuracy score is 15.53%, this could be due to the image. One of the plausible issues i can think of that cause such a low accuracy is the fact that maybe tht augmented image has not been since by the model.\n"
   ]
  },
  {
   "cell_type": "markdown",
   "metadata": {},
   "source": [
    "#### Test an image\n"
   ]
  },
  {
   "cell_type": "code",
   "execution_count": null,
   "metadata": {},
   "outputs": [
    {
     "data": {
      "image/png": "[encoded data removed]",
      "text/plain": [
       "<Figure size 432x288 with 1 Axes>"
      ]
     },
     "metadata": {
      "needs_background": "light"
     },
     "output_type": "display_data"
    }
   ],
   "source": [
    "from skimage.transform import resize\n",
    "Image = plt.imread(\"output_path/test/BD-Vacutainer/BD-Vacutainer1_small_constrast.jpg\")\n",
    "RImage = resize(Image, (img_width, img_height, 3))\n",
    "img = plt.imshow(RImage)"
   ]
  },
  {
   "cell_type": "code",
   "execution_count": null,
   "metadata": {},
   "outputs": [
    {
     "name": "stdout",
     "output_type": "stream",
     "text": [
      "1/1 [==============================] - 0s 237ms/step\n",
      "[0]\n"
     ]
    }
   ],
   "source": [
    "predictions = model.predict(np.array( [RImage] ))\n",
    "predictions\n",
    "\n",
    "y_pred = np.argmax(predictions, axis=1)\n",
    "\n",
    "print(y_pred)\n",
    "# should give 0 as it is vacutainer"
   ]
  },
  {
   "cell_type": "markdown",
   "metadata": {},
   "source": [
    "## testing with loops"
   ]
  },
  {
   "cell_type": "code",
   "execution_count": null,
   "metadata": {},
   "outputs": [
    {
     "name": "stdout",
     "output_type": "stream",
     "text": [
      "Found 103 images belonging to 7 classes.\n"
     ]
    }
   ],
   "source": [
    "import numpy as np\n",
    "from sklearn.metrics import confusion_matrix\n",
    "from sklearn import metrics\n",
    "# test_data_dir = os.path.dirname(\"output_path_no_Plain_220x380v1/train-test/\")\n",
    "\n",
    "datagenerate_test = ImageDataGenerator(rescale=1.0/255, samplewise_center=True)\n",
    "\n",
    "test_generator = datagenerate_test.flow_from_directory(test_data_dir,\n",
    "                                                target_size=(img_width,img_height),\n",
    "                                                batch_size=batch_size,\n",
    "                                                #subset=\"validation\",\n",
    "                                                class_mode='categorical',\n",
    "                                                classes = ['BD-Vacutainer', 'EDTA(K2)', 'Monovette', 'SGS', 'Vacuette' , 'Vacutest', 'Venosafe'],\n",
    "                                                shuffle = False)"
   ]
  },
  {
   "cell_type": "code",
   "execution_count": null,
   "metadata": {},
   "outputs": [
    {
     "name": "stdout",
     "output_type": "stream",
     "text": [
      "7/7 [==============================] - 10s 1s/step\n",
      "[6 6 6 6 6 1 5 6 6 5 5 5 5 6 6 6 6 5 6 5 6 5 5 5 6 6 5 6 5 6 6 6 6 6 6 6 5\n",
      " 0 4 6 0 2 0 2 6 6 6 6 6 5 6 4 6 6 6 6 6 6 6 6 4 5 5 5 6 5 6 6 5 4 0 6 6 6\n",
      " 5 5 5 5 5 5 5 5 5 5 6 6 0 5 5 6 6 6 5 6 5 6 6 6 6 5 6 5 6]\n"
     ]
    }
   ],
   "source": [
    "loaded_model = load_model(\"model/VGG16_adam_train-89.11%_val-89.10_test-91.26v2%\")\n",
    "\n",
    "\n",
    "from sklearn.metrics import accuracy_score\n",
    "import seaborn as sns\n",
    "\n",
    "y_pred=loaded_model.predict(test_generator)\n",
    "y_pred=np.argmax(y_pred,axis=1)\n",
    "\n",
    "print(y_pred)"
   ]
  },
  {
   "cell_type": "code",
   "execution_count": null,
   "metadata": {},
   "outputs": [
    {
     "name": "stdout",
     "output_type": "stream",
     "text": [
      "[6 6 6 6 6 1 5 6 6 5 5 5 5 6 6 6 6 5 6 5 6 5 5 5 6 6 5 6 5 6 6 6 6 6 6 6 5\n",
      " 0 4 6 0 2 0 2 6 6 6 6 6 5 6 4 6 6 6 6 6 6 6 6 4 5 5 5 6 5 6 6 5 4 0 6 6 6\n",
      " 5 5 5 5 5 5 5 5 5 5 6 6 0 5 5 6 6 6 5 6 5 6 6 6 6 5 6 5 6]\n"
     ]
    }
   ],
   "source": [
    "def fix_prediction_order(prediction):\n",
    "    if len(prediction) <= len(test_generator.classes):\n",
    "        return prediction\n",
    "\n",
    "    return np.roll(prediction, len(test_generator.classes), axis = 0)\n",
    "\n",
    "organize = fix_prediction_order(y_pred)\n",
    "print(organize)"
   ]
  },
  {
   "cell_type": "code",
   "execution_count": null,
   "metadata": {},
   "outputs": [
    {
     "name": "stdout",
     "output_type": "stream",
     "text": [
      "[0 0 0 0 0 0 0 0 0 0 0 0 0 0 1 1 1 1 1 1 1 1 1 1 1 1 1 1 1 1 1 1 2 2 2 2 2\n",
      " 2 2 2 2 2 2 2 3 3 3 3 3 3 3 3 3 4 4 4 4 4 4 4 4 4 4 4 4 4 4 4 4 4 4 5 5 5\n",
      " 5 5 5 5 5 5 5 5 5 5 5 5 5 5 5 6 6 6 6 6 6 6 6 6 6 6 6 6 6]\n"
     ]
    }
   ],
   "source": [
    "t=test_generator.classes\n",
    "print(t)"
   ]
  },
  {
   "cell_type": "code",
   "execution_count": null,
   "metadata": {},
   "outputs": [
    {
     "data": {
      "text/plain": [
       "0.2524271844660194"
      ]
     },
     "execution_count": 61,
     "metadata": {},
     "output_type": "execute_result"
    }
   ],
   "source": [
    "accuracy_score(y_pred ,test_generator.classes)\n"
   ]
  },
  {
   "cell_type": "code",
   "execution_count": null,
   "metadata": {},
   "outputs": [
    {
     "name": "stdout",
     "output_type": "stream",
     "text": [
      "Accuracy Score : 0.2524271844660194\n",
      "Report : \n",
      "              precision    recall  f1-score   support\n",
      "\n",
      "           0       0.00      0.00      0.00         5\n",
      "           1       0.00      0.00      0.00         1\n",
      "           2       0.17      1.00      0.29         2\n",
      "           3       0.00      0.00      0.00         0\n",
      "           4       0.11      0.50      0.18         4\n",
      "           5       0.67      0.34      0.45        35\n",
      "           6       0.71      0.18      0.29        56\n",
      "\n",
      "    accuracy                           0.25       103\n",
      "   macro avg       0.24      0.29      0.17       103\n",
      "weighted avg       0.62      0.25      0.32       103\n",
      "\n"
     ]
    },
    {
     "name": "stderr",
     "output_type": "stream",
     "text": [
      "c:\\Users\\Stephen Pangga\\AppData\\Local\\Programs\\Python\\Python39\\lib\\site-packages\\sklearn\\metrics\\_classification.py:1327: UndefinedMetricWarning: Recall and F-score are ill-defined and being set to 0.0 in labels with no true samples. Use `zero_division` parameter to control this behavior.\n",
      "  _warn_prf(average, modifier, msg_start, len(result))\n",
      "c:\\Users\\Stephen Pangga\\AppData\\Local\\Programs\\Python\\Python39\\lib\\site-packages\\sklearn\\metrics\\_classification.py:1327: UndefinedMetricWarning: Recall and F-score are ill-defined and being set to 0.0 in labels with no true samples. Use `zero_division` parameter to control this behavior.\n",
      "  _warn_prf(average, modifier, msg_start, len(result))\n",
      "c:\\Users\\Stephen Pangga\\AppData\\Local\\Programs\\Python\\Python39\\lib\\site-packages\\sklearn\\metrics\\_classification.py:1327: UndefinedMetricWarning: Recall and F-score are ill-defined and being set to 0.0 in labels with no true samples. Use `zero_division` parameter to control this behavior.\n",
      "  _warn_prf(average, modifier, msg_start, len(result))\n"
     ]
    }
   ],
   "source": [
    "from sklearn.metrics import accuracy_score\n",
    "from sklearn.metrics import classification_report\n",
    "\n",
    "print('Accuracy Score :', accuracy_score(y_pred, test_generator.classes)) \n",
    "print ('Report : ')\n",
    "target_names = ['BD-Vacutainer', 'EDTA(K2)', 'Monovette', 'SGS', 'Vacuette' , 'Vacutest', 'Venosafe']\n",
    "print (classification_report(y_pred, test_generator.classes)) "
   ]
  }
 ],
 "metadata": {
  "kernelspec": {
   "display_name": "Python 3.9.12 64-bit",
   "language": "python",
   "name": "python3"
  },
  "language_info": {
   "codemirror_mode": {
    "name": "ipython",
    "version": 3
   },
   "file_extension": ".py",
   "mimetype": "text/x-python",
   "name": "python",
   "nbconvert_exporter": "python",
   "pygments_lexer": "ipython3",
   "version": "3.9.12"
  },
  "orig_nbformat": 4,
  "vscode": {
   "interpreter": {
    "hash": "fa5d115fa710d7eb103ffbd6b5d38db487e39deec5c3097f3f1ac85e2ee2f5aa"
   }
  }
 },
 "nbformat": 4,
 "nbformat_minor": 2
}
