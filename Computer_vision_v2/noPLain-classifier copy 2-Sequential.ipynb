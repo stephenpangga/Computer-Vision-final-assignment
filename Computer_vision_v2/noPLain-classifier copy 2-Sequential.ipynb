{
 "cells": [
  {
   "cell_type": "code",
   "execution_count": 94,
   "metadata": {},
   "outputs": [],
   "source": [
    "# %pip install keras\n",
    "# %pip install tensorflow\n",
    "# %pip install image_dataset_loader\n",
    "\n",
    "import keras\n",
    "import os\n",
    "from keras.models import *\n",
    "from keras.layers import *\n",
    "from keras.datasets import cifar10\n",
    "from keras.optimizers import *\n",
    "from keras.preprocessing.image import ImageDataGenerator\n",
    "from matplotlib import pyplot as plt\n",
    "from keras.utils import *\n",
    "from keras.applications.vgg16 import VGG16\n",
    "from image_dataset_loader import load\n",
    "\n",
    "\n",
    "train_data_dir = os.path.dirname(\"output_path_no_Plain_220x380v3/train/\")\n",
    "validation_data_dir = os.path.dirname(\"output_path_no_Plain_220x380v3/val/\")\n",
    "test_data_dir = os.path.dirname(\"output_path_no_Plain_220x380v3/test/\")\n",
    "\n",
    "\n",
    "# train_data_dir = os.path.dirname(\"output_path/train/\")\n",
    "# validation_data_dir = os.path.dirname(\"output_path/val/\")\n",
    "# test_data_dir = os.path.dirname(\"output_path/test/\")"
   ]
  },
  {
   "cell_type": "code",
   "execution_count": 95,
   "metadata": {},
   "outputs": [
    {
     "name": "stdout",
     "output_type": "stream",
     "text": [
      "Found 709 images belonging to 7 classes.\n",
      "Found 204 images belonging to 7 classes.\n",
      "<keras.preprocessing.image.DirectoryIterator object at 0x0000022FC7AA9910>\n",
      "<keras.preprocessing.image.DirectoryIterator object at 0x0000022FCA25B640>\n"
     ]
    }
   ],
   "source": [
    "\n",
    "img_width, img_height = 220, 380\n",
    "batch_size = 2\n",
    "\n",
    "datagenerate_train = ImageDataGenerator(rescale=1.0/255, samplewise_center=True)\n",
    "                                \n",
    "train_generator = datagenerate_train.flow_from_directory(train_data_dir,\n",
    "                                                target_size=(img_width,img_height),\n",
    "                                                 batch_size=batch_size,\n",
    "                                                 #subset=\"training\",\n",
    "                                                 class_mode='categorical')\n",
    "\n",
    "datagenerate_validation = ImageDataGenerator(rescale=1.0/255, samplewise_center=True)\n",
    "\n",
    "validation_generator = datagenerate_validation.flow_from_directory(validation_data_dir,\n",
    "                                                        target_size=(img_width,img_height),\n",
    "                                                        batch_size=batch_size,\n",
    "                                                        #subset=\"validation\",\n",
    "                                                        class_mode='categorical')\n",
    "\n",
    "\n",
    "print(train_generator)\n",
    "print(validation_generator)\n",
    "# print(test_generator)"
   ]
  },
  {
   "cell_type": "markdown",
   "metadata": {},
   "source": [
    "# Model Training\n"
   ]
  },
  {
   "cell_type": "code",
   "execution_count": 96,
   "metadata": {},
   "outputs": [],
   "source": [
    "# def define_VGGmodel():\n",
    "\n",
    "#     model = VGG16(include_top=False, input_shape=(img_width, img_height, 3))\n",
    "\n",
    "#     for layer in model.layers:\n",
    "#         layer.trainable = False\n",
    "\n",
    "#     flat1 = Flatten()(model.layers[-1].output)\n",
    "\n",
    "#     class1 = Dense(128, activation='relu', kernel_initializer='he_uniform')(flat1)\n",
    "\n",
    "#     output = Dense(7, activation='softmax')(class1)\n",
    "\n",
    "#     model = Model(inputs=model.inputs, outputs=output)\n",
    "\n",
    "#     #opt = SGD(lr=0.001, momentum=0.9)\n",
    "\n",
    "#     model.compile(optimizer='Adam', loss='categorical_crossentropy', metrics=['categorical_accuracy'])\n",
    "    \n",
    "#     return model\n",
    "\n",
    "# model = define_VGGmodel()\n",
    "# model.summary()"
   ]
  },
  {
   "cell_type": "code",
   "execution_count": 97,
   "metadata": {},
   "outputs": [],
   "source": [
    "# from keras import models\n",
    "# from keras import layers\n",
    "\n",
    "# model = Sequential([\n",
    "#     layers.Rescaling(1./255, input_shape=(220, 389, 3)),\n",
    "#     layers.Conv2D(16, 3, padding='same', activation='relu'),\n",
    "#     layers.MaxPooling2D(),\n",
    "#     layers.Conv2D(32, 3, padding='same', activation='relu'),\n",
    "#     layers.MaxPooling2D(),\n",
    "#     layers.Conv2D(64, 3, padding='same', activation='relu'),\n",
    "#     layers.MaxPooling2D(),\n",
    "#     layers.Flatten(),\n",
    "#     layers.Dense(128, activation='relu'),\n",
    "#     layers.Dense(7, activation='softmax')\n",
    "# ])\n",
    "# model.compile(optimizer=\"Adam\", loss='sparse_categorical_crossentropy', metrics=['accuracy'])\n",
    "# model.summary()\n"
   ]
  },
  {
   "cell_type": "code",
   "execution_count": 98,
   "metadata": {},
   "outputs": [
    {
     "name": "stdout",
     "output_type": "stream",
     "text": [
      "Model: \"sequential_17\"\n",
      "_________________________________________________________________\n",
      " Layer (type)                Output Shape              Param #   \n",
      "=================================================================\n",
      " conv2d_51 (Conv2D)          (None, 220, 380, 32)      896       \n",
      "                                                                 \n",
      " max_pooling2d_51 (MaxPoolin  (None, 110, 190, 32)     0         \n",
      " g2D)                                                            \n",
      "                                                                 \n",
      " conv2d_52 (Conv2D)          (None, 110, 190, 64)      18496     \n",
      "                                                                 \n",
      " max_pooling2d_52 (MaxPoolin  (None, 55, 95, 64)       0         \n",
      " g2D)                                                            \n",
      "                                                                 \n",
      " conv2d_53 (Conv2D)          (None, 55, 95, 128)       73856     \n",
      "                                                                 \n",
      " max_pooling2d_53 (MaxPoolin  (None, 27, 47, 128)      0         \n",
      " g2D)                                                            \n",
      "                                                                 \n",
      " flatten_17 (Flatten)        (None, 162432)            0         \n",
      "                                                                 \n",
      " dense_34 (Dense)            (None, 128)               20791424  \n",
      "                                                                 \n",
      " dense_35 (Dense)            (None, 7)                 903       \n",
      "                                                                 \n",
      "=================================================================\n",
      "Total params: 20,885,575\n",
      "Trainable params: 20,885,575\n",
      "Non-trainable params: 0\n",
      "_________________________________________________________________\n"
     ]
    }
   ],
   "source": [
    "from keras import models\n",
    "from keras import layers\n",
    "\n",
    "model = Sequential()\n",
    "model.add(Conv2D(32, (3, 3), activation='relu', padding='same', input_shape=(220, 380, 3)))\n",
    "model.add(MaxPooling2D((2, 2)))\n",
    "model.add(Conv2D(64, (3, 3), activation='relu', padding='same'))\n",
    "model.add(MaxPooling2D((2, 2)))\n",
    "model.add(Conv2D(128, (3, 3), activation='relu', padding='same'))\n",
    "model.add(MaxPooling2D((2, 2)))\n",
    "model.add(Flatten())\n",
    "# add classifier (dense layers)\n",
    "model.add(Dense(128, activation='relu', kernel_initializer='he_uniform'))\n",
    "model.add(Dense(7, activation='softmax'))\n",
    "# compile model\n",
    "# opt = SGD(lr=0.01, momentum=0.9)\n",
    "model.compile(optimizer=\"Adam\", loss='categorical_crossentropy', metrics=['accuracy'])\n",
    "\n",
    "model.summary()"
   ]
  },
  {
   "cell_type": "code",
   "execution_count": 99,
   "metadata": {},
   "outputs": [],
   "source": [
    "from keras import callbacks\n",
    "earlystopping = callbacks.EarlyStopping(monitor =\"val_loss\", \n",
    "                                        mode =\"min\", patience = 5, \n",
    "                                        restore_best_weights = True)"
   ]
  },
  {
   "cell_type": "code",
   "execution_count": 100,
   "metadata": {},
   "outputs": [
    {
     "name": "stdout",
     "output_type": "stream",
     "text": [
      "Epoch 1/20\n",
      "355/355 [==============================] - 63s 177ms/step - loss: 1.8855 - accuracy: 0.2468 - val_loss: 1.5792 - val_accuracy: 0.3775\n",
      "Epoch 2/20\n",
      "355/355 [==============================] - 60s 169ms/step - loss: 1.2394 - accuracy: 0.5289 - val_loss: 0.9792 - val_accuracy: 0.6324\n",
      "Epoch 3/20\n",
      "355/355 [==============================] - 60s 170ms/step - loss: 0.5774 - accuracy: 0.8138 - val_loss: 0.8701 - val_accuracy: 0.7598\n",
      "Epoch 4/20\n",
      "355/355 [==============================] - 60s 169ms/step - loss: 0.2286 - accuracy: 0.9309 - val_loss: 0.9223 - val_accuracy: 0.7647\n",
      "Epoch 5/20\n",
      "355/355 [==============================] - 60s 170ms/step - loss: 0.0719 - accuracy: 0.9831 - val_loss: 1.1027 - val_accuracy: 0.7549\n",
      "Epoch 6/20\n",
      "355/355 [==============================] - 60s 169ms/step - loss: 0.1134 - accuracy: 0.9647 - val_loss: 1.3547 - val_accuracy: 0.7794\n",
      "Epoch 7/20\n",
      "355/355 [==============================] - 60s 170ms/step - loss: 0.0175 - accuracy: 0.9944 - val_loss: 1.3312 - val_accuracy: 0.7843\n",
      "Epoch 8/20\n",
      "355/355 [==============================] - 61s 172ms/step - loss: 0.0152 - accuracy: 0.9958 - val_loss: 1.4063 - val_accuracy: 0.7941\n"
     ]
    }
   ],
   "source": [
    "history = model.fit(train_generator, steps_per_epoch=len(train_generator), validation_data=validation_generator, validation_steps=len(validation_generator), epochs=20, verbose=1, shuffle=False, callbacks=[earlystopping])"
   ]
  },
  {
   "cell_type": "code",
   "execution_count": 101,
   "metadata": {},
   "outputs": [
    {
     "name": "stdout",
     "output_type": "stream",
     "text": [
      "{'loss': [1.885510802268982, 1.239437222480774, 0.5773573517799377, 0.22864167392253876, 0.0719105675816536, 0.11341135948896408, 0.017506780102849007, 0.015230754390358925], 'accuracy': [0.24682651460170746, 0.5289139747619629, 0.8138222694396973, 0.9308885931968689, 0.9830747246742249, 0.9647390842437744, 0.994358241558075, 0.995768666267395], 'val_loss': [1.5791566371917725, 0.9792411923408508, 0.8701225519180298, 0.9223240613937378, 1.1026819944381714, 1.3547059297561646, 1.3312314748764038, 1.4063256978988647], 'val_accuracy': [0.37745097279548645, 0.6323529481887817, 0.7598039507865906, 0.7647058963775635, 0.7549019455909729, 0.779411792755127, 0.7843137383460999, 0.7941176295280457]}\n"
     ]
    }
   ],
   "source": [
    "print(history.history)"
   ]
  },
  {
   "cell_type": "markdown",
   "metadata": {},
   "source": [
    "# Diagnostic plot"
   ]
  },
  {
   "cell_type": "code",
   "execution_count": 102,
   "metadata": {},
   "outputs": [
    {
     "data": {
      "image/png": "[encoded data removed]",
      "text/plain": [
       "<Figure size 432x288 with 1 Axes>"
      ]
     },
     "metadata": {
      "needs_background": "light"
     },
     "output_type": "display_data"
    }
   ],
   "source": [
    "plt.plot(history.history['accuracy'])\n",
    "plt.plot(history.history['val_accuracy'])\n",
    "plt.title('Model Accuracy')\n",
    "plt.ylabel('Accuracy')\n",
    "plt.xlabel('Epoch')\n",
    "plt.legend(['Train', 'Val_loss'], loc='upper left')\n",
    "plt.show()"
   ]
  },
  {
   "cell_type": "code",
   "execution_count": 103,
   "metadata": {},
   "outputs": [
    {
     "data": {
      "image/png": "[encoded data removed]",
      "text/plain": [
       "<Figure size 432x288 with 1 Axes>"
      ]
     },
     "metadata": {
      "needs_background": "light"
     },
     "output_type": "display_data"
    }
   ],
   "source": [
    "\n",
    "plt.plot(history.history['loss'])\n",
    "plt.plot(history.history['val_loss'])\n",
    "plt.title('Model Loss')\n",
    "plt.ylabel('Loss')\n",
    "plt.xlabel('Epoch')\n",
    "plt.legend(['Loss', 'Val_loss'], loc='upper right')\n",
    "plt.show()"
   ]
  },
  {
   "cell_type": "code",
   "execution_count": 104,
   "metadata": {},
   "outputs": [
    {
     "name": "stdout",
     "output_type": "stream",
     "text": [
      "Validation image - evaluation\n",
      "102/102 [==============================] - 4s 35ms/step - loss: 0.8701 - accuracy: 0.7598\n",
      "accuracy score:  75.98039507865906\n"
     ]
    }
   ],
   "source": [
    "print('Validation image - evaluation')\n",
    "_, acc = model.evaluate(validation_generator, steps=len(validation_generator), verbose=1)\n",
    "print('accuracy score: ', acc*100 )"
   ]
  },
  {
   "cell_type": "code",
   "execution_count": 105,
   "metadata": {},
   "outputs": [],
   "source": [
    "# print('Test image - evaluation')\n",
    "# _, acc = model.evaluate(test_generator, steps=len(test_generator), verbose=1)\n",
    "# print('accuracy score: ', acc*100 )"
   ]
  },
  {
   "cell_type": "markdown",
   "metadata": {},
   "source": [
    "# Testing"
   ]
  },
  {
   "cell_type": "code",
   "execution_count": 106,
   "metadata": {},
   "outputs": [
    {
     "name": "stdout",
     "output_type": "stream",
     "text": [
      "Found 107 images belonging to 7 classes.\n"
     ]
    }
   ],
   "source": [
    "import numpy as np\n",
    "from sklearn.metrics import confusion_matrix\n",
    "from sklearn import metrics\n",
    "# test_data_dir = os.path.dirname(\"output_path_no_Plain_220x380v1/train-test/\")\n",
    "\n",
    "datagenerate_test = ImageDataGenerator(rescale=1.0/255, samplewise_center=True)\n",
    "\n",
    "test_generator = datagenerate_test.flow_from_directory(test_data_dir,\n",
    "                                                target_size=(img_width,img_height),\n",
    "                                                batch_size=batch_size,\n",
    "                                                #subset=\"validation\",\n",
    "                                                class_mode='categorical')"
   ]
  },
  {
   "cell_type": "code",
   "execution_count": 107,
   "metadata": {},
   "outputs": [
    {
     "name": "stdout",
     "output_type": "stream",
     "text": [
      "Test image - evaluation\n",
      "54/54 [==============================] - 2s 42ms/step - loss: 1.1693 - accuracy: 0.6542\n",
      "accuracy score:  65.42056202888489\n"
     ]
    }
   ],
   "source": [
    "print('Test image - evaluation')\n",
    "_, acc = model.evaluate(test_generator, steps=len(test_generator), verbose=1)\n",
    "print('accuracy score: ', acc*100 )"
   ]
  },
  {
   "cell_type": "code",
   "execution_count": 108,
   "metadata": {},
   "outputs": [
    {
     "name": "stdout",
     "output_type": "stream",
     "text": [
      "54/54 [==============================] - 2s 36ms/step\n",
      "accuracy:  0.1308411214953271\n"
     ]
    }
   ],
   "source": [
    "\n",
    "Y_pred = model.predict(test_generator)\n",
    "y_pred = np.argmax(Y_pred, axis=1)\n",
    "print('accuracy: ', metrics.accuracy_score(y_pred,test_generator.classes))"
   ]
  },
  {
   "cell_type": "code",
   "execution_count": 109,
   "metadata": {},
   "outputs": [
    {
     "name": "stdout",
     "output_type": "stream",
     "text": [
      "Confusion Matrix\n",
      "[[2 2 0 3 2 6 1]\n",
      " [0 3 2 0 4 2 2]\n",
      " [2 2 1 1 2 1 0]\n",
      " [2 3 0 0 1 0 1]\n",
      " [2 3 2 1 3 2 5]\n",
      " [3 5 4 4 4 4 4]\n",
      " [3 1 3 1 3 4 1]]\n"
     ]
    }
   ],
   "source": [
    "print('Confusion Matrix')\n",
    "print(confusion_matrix(y_pred, test_generator.classes))"
   ]
  },
  {
   "cell_type": "code",
   "execution_count": 110,
   "metadata": {},
   "outputs": [
    {
     "data": {
      "text/plain": [
       "<sklearn.metrics._plot.confusion_matrix.ConfusionMatrixDisplay at 0x22fc7a847f0>"
      ]
     },
     "execution_count": 110,
     "metadata": {},
     "output_type": "execute_result"
    },
    {
     "data": {
      "image/png": "[encoded data removed]",
      "text/plain": [
       "<Figure size 720x720 with 2 Axes>"
      ]
     },
     "metadata": {
      "needs_background": "light"
     },
     "output_type": "display_data"
    }
   ],
   "source": [
    "import seaborn as sns\n",
    "from sklearn.metrics import confusion_matrix, ConfusionMatrixDisplay\n",
    "\n",
    "cm = confusion_matrix(y_pred, test_generator.classes)\n",
    "cmd = ConfusionMatrixDisplay(cm, display_labels=[ 'BD-Vacutainer', 'EDTA(K2)', 'Monovette','SGS', 'Vacuette' , 'Vacutest', 'Venosafe'])\n",
    "fig, ax = plt.subplots(figsize=(10,10))\n",
    "plt.grid(False)\n",
    "cmd.plot(ax=ax)"
   ]
  },
  {
   "cell_type": "code",
   "execution_count": 111,
   "metadata": {},
   "outputs": [
    {
     "name": "stdout",
     "output_type": "stream",
     "text": [
      "Accuracy Score : 0.1308411214953271\n",
      "Report : \n",
      "               precision    recall  f1-score   support\n",
      "\n",
      "BD-Vacutainer       0.14      0.12      0.13        16\n",
      "     EDTA(K2)       0.16      0.23      0.19        13\n",
      "    Monovette       0.08      0.11      0.10         9\n",
      "          SGS       0.00      0.00      0.00         7\n",
      "     Vacuette       0.16      0.17      0.16        18\n",
      "     Vacutest       0.21      0.14      0.17        28\n",
      "     Venosafe       0.07      0.06      0.07        16\n",
      "\n",
      "     accuracy                           0.13       107\n",
      "    macro avg       0.12      0.12      0.12       107\n",
      " weighted avg       0.14      0.13      0.13       107\n",
      "\n"
     ]
    }
   ],
   "source": [
    "from sklearn.metrics import accuracy_score\n",
    "from sklearn.metrics import classification_report\n",
    "print('Accuracy Score :', accuracy_score(y_pred, test_generator.classes)) \n",
    "print ('Report : ')\n",
    "target_names = ['BD-Vacutainer', 'EDTA(K2)', 'Monovette', 'SGS', 'Vacuette' , 'Vacutest', 'Venosafe']\n",
    "print (classification_report(y_pred, test_generator.classes, target_names=target_names)) "
   ]
  },
  {
   "cell_type": "markdown",
   "metadata": {},
   "source": [
    "The confusion matrix has show the "
   ]
  }
 ],
 "metadata": {
  "kernelspec": {
   "display_name": "Python 3.9.12 64-bit",
   "language": "python",
   "name": "python3"
  },
  "language_info": {
   "codemirror_mode": {
    "name": "ipython",
    "version": 3
   },
   "file_extension": ".py",
   "mimetype": "text/x-python",
   "name": "python",
   "nbconvert_exporter": "python",
   "pygments_lexer": "ipython3",
   "version": "3.9.12"
  },
  "orig_nbformat": 4,
  "vscode": {
   "interpreter": {
    "hash": "fa5d115fa710d7eb103ffbd6b5d38db487e39deec5c3097f3f1ac85e2ee2f5aa"
   }
  }
 },
 "nbformat": 4,
 "nbformat_minor": 2
}
