{
 "cells": [
  {
   "cell_type": "code",
   "execution_count": 28,
   "metadata": {},
   "outputs": [
    {
     "name": "stdout",
     "output_type": "stream",
     "text": [
      "Requirement already satisfied: keras in c:\\users\\stephen pangga\\appdata\\local\\programs\\python\\python39\\lib\\site-packages (2.9.0)Note: you may need to restart the kernel to use updated packages.\n",
      "\n"
     ]
    },
    {
     "name": "stderr",
     "output_type": "stream",
     "text": [
      "WARNING: You are using pip version 22.0.4; however, version 22.1.2 is available.\n",
      "You should consider upgrading via the 'c:\\Users\\Stephen Pangga\\AppData\\Local\\Programs\\Python\\Python39\\python.exe -m pip install --upgrade pip' command.\n"
     ]
    },
    {
     "name": "stdout",
     "output_type": "stream",
     "text": [
      "Requirement already satisfied: tensorflow in c:\\users\\stephen pangga\\appdata\\local\\programs\\python\\python39\\lib\\site-packages (2.9.1)\n",
      "Requirement already satisfied: tensorflow-estimator<2.10.0,>=2.9.0rc0 in c:\\users\\stephen pangga\\appdata\\local\\programs\\python\\python39\\lib\\site-packages (from tensorflow) (2.9.0)\n",
      "Requirement already satisfied: packaging in c:\\users\\stephen pangga\\appdata\\local\\programs\\python\\python39\\lib\\site-packages (from tensorflow) (21.3)\n",
      "Requirement already satisfied: flatbuffers<2,>=1.12 in c:\\users\\stephen pangga\\appdata\\local\\programs\\python\\python39\\lib\\site-packages (from tensorflow) (1.12)\n",
      "Requirement already satisfied: keras-preprocessing>=1.1.1 in c:\\users\\stephen pangga\\appdata\\local\\programs\\python\\python39\\lib\\site-packages (from tensorflow) (1.1.2)\n",
      "Requirement already satisfied: numpy>=1.20 in c:\\users\\stephen pangga\\appdata\\local\\programs\\python\\python39\\lib\\site-packages (from tensorflow) (1.22.4)\n",
      "Requirement already satisfied: wrapt>=1.11.0 in c:\\users\\stephen pangga\\appdata\\local\\programs\\python\\python39\\lib\\site-packages (from tensorflow) (1.14.1)\n",
      "Requirement already satisfied: six>=1.12.0 in c:\\users\\stephen pangga\\appdata\\local\\programs\\python\\python39\\lib\\site-packages (from tensorflow) (1.16.0)\n",
      "Requirement already satisfied: termcolor>=1.1.0 in c:\\users\\stephen pangga\\appdata\\local\\programs\\python\\python39\\lib\\site-packages (from tensorflow) (1.1.0)\n",
      "Requirement already satisfied: tensorflow-io-gcs-filesystem>=0.23.1 in c:\\users\\stephen pangga\\appdata\\local\\programs\\python\\python39\\lib\\site-packages (from tensorflow) (0.26.0)\n",
      "Requirement already satisfied: gast<=0.4.0,>=0.2.1 in c:\\users\\stephen pangga\\appdata\\local\\programs\\python\\python39\\lib\\site-packages (from tensorflow) (0.4.0)\n",
      "Requirement already satisfied: libclang>=13.0.0 in c:\\users\\stephen pangga\\appdata\\local\\programs\\python\\python39\\lib\\site-packages (from tensorflow) (14.0.1)\n",
      "Requirement already satisfied: grpcio<2.0,>=1.24.3 in c:\\users\\stephen pangga\\appdata\\local\\programs\\python\\python39\\lib\\site-packages (from tensorflow) (1.46.3)\n",
      "Requirement already satisfied: astunparse>=1.6.0 in c:\\users\\stephen pangga\\appdata\\local\\programs\\python\\python39\\lib\\site-packages (from tensorflow) (1.6.3)\n",
      "Requirement already satisfied: keras<2.10.0,>=2.9.0rc0 in c:\\users\\stephen pangga\\appdata\\local\\programs\\python\\python39\\lib\\site-packages (from tensorflow) (2.9.0)\n",
      "Requirement already satisfied: setuptools in c:\\users\\stephen pangga\\appdata\\local\\programs\\python\\python39\\lib\\site-packages (from tensorflow) (58.1.0)\n",
      "Requirement already satisfied: tensorboard<2.10,>=2.9 in c:\\users\\stephen pangga\\appdata\\local\\programs\\python\\python39\\lib\\site-packages (from tensorflow) (2.9.1)\n",
      "Requirement already satisfied: absl-py>=1.0.0 in c:\\users\\stephen pangga\\appdata\\local\\programs\\python\\python39\\lib\\site-packages (from tensorflow) (1.1.0)\n",
      "Requirement already satisfied: typing-extensions>=3.6.6 in c:\\users\\stephen pangga\\appdata\\local\\programs\\python\\python39\\lib\\site-packages (from tensorflow) (4.2.0)\n",
      "Requirement already satisfied: h5py>=2.9.0 in c:\\users\\stephen pangga\\appdata\\local\\programs\\python\\python39\\lib\\site-packages (from tensorflow) (3.7.0)\n",
      "Requirement already satisfied: opt-einsum>=2.3.2 in c:\\users\\stephen pangga\\appdata\\local\\programs\\python\\python39\\lib\\site-packages (from tensorflow) (3.3.0)\n",
      "Requirement already satisfied: protobuf<3.20,>=3.9.2 in c:\\users\\stephen pangga\\appdata\\local\\programs\\python\\python39\\lib\\site-packages (from tensorflow) (3.19.4)\n",
      "Requirement already satisfied: google-pasta>=0.1.1 in c:\\users\\stephen pangga\\appdata\\local\\programs\\python\\python39\\lib\\site-packages (from tensorflow) (0.2.0)\n",
      "Requirement already satisfied: wheel<1.0,>=0.23.0 in c:\\users\\stephen pangga\\appdata\\local\\programs\\python\\python39\\lib\\site-packages (from astunparse>=1.6.0->tensorflow) (0.37.1)\n",
      "Requirement already satisfied: tensorboard-plugin-wit>=1.6.0 in c:\\users\\stephen pangga\\appdata\\local\\programs\\python\\python39\\lib\\site-packages (from tensorboard<2.10,>=2.9->tensorflow) (1.8.1)\n",
      "Requirement already satisfied: tensorboard-data-server<0.7.0,>=0.6.0 in c:\\users\\stephen pangga\\appdata\\local\\programs\\python\\python39\\lib\\site-packages (from tensorboard<2.10,>=2.9->tensorflow) (0.6.1)\n",
      "Requirement already satisfied: requests<3,>=2.21.0 in c:\\users\\stephen pangga\\appdata\\local\\programs\\python\\python39\\lib\\site-packages (from tensorboard<2.10,>=2.9->tensorflow) (2.28.0)\n",
      "Requirement already satisfied: werkzeug>=1.0.1 in c:\\users\\stephen pangga\\appdata\\local\\programs\\python\\python39\\lib\\site-packages (from tensorboard<2.10,>=2.9->tensorflow) (2.1.2)\n",
      "Requirement already satisfied: markdown>=2.6.8 in c:\\users\\stephen pangga\\appdata\\local\\programs\\python\\python39\\lib\\site-packages (from tensorboard<2.10,>=2.9->tensorflow) (3.3.7)\n",
      "Requirement already satisfied: google-auth<3,>=1.6.3 in c:\\users\\stephen pangga\\appdata\\local\\programs\\python\\python39\\lib\\site-packages (from tensorboard<2.10,>=2.9->tensorflow) (2.7.0)\n",
      "Requirement already satisfied: google-auth-oauthlib<0.5,>=0.4.1 in c:\\users\\stephen pangga\\appdata\\local\\programs\\python\\python39\\lib\\site-packages (from tensorboard<2.10,>=2.9->tensorflow) (0.4.6)\n",
      "Requirement already satisfied: pyparsing!=3.0.5,>=2.0.2 in c:\\users\\stephen pangga\\appdata\\local\\programs\\python\\python39\\lib\\site-packages (from packaging->tensorflow) (3.0.9)\n",
      "Requirement already satisfied: pyasn1-modules>=0.2.1 in c:\\users\\stephen pangga\\appdata\\local\\programs\\python\\python39\\lib\\site-packages (from google-auth<3,>=1.6.3->tensorboard<2.10,>=2.9->tensorflow) (0.2.8)\n",
      "Requirement already satisfied: cachetools<6.0,>=2.0.0 in c:\\users\\stephen pangga\\appdata\\local\\programs\\python\\python39\\lib\\site-packages (from google-auth<3,>=1.6.3->tensorboard<2.10,>=2.9->tensorflow) (5.2.0)\n",
      "Requirement already satisfied: rsa<5,>=3.1.4 in c:\\users\\stephen pangga\\appdata\\local\\programs\\python\\python39\\lib\\site-packages (from google-auth<3,>=1.6.3->tensorboard<2.10,>=2.9->tensorflow) (4.8)\n",
      "Requirement already satisfied: requests-oauthlib>=0.7.0 in c:\\users\\stephen pangga\\appdata\\local\\programs\\python\\python39\\lib\\site-packages (from google-auth-oauthlib<0.5,>=0.4.1->tensorboard<2.10,>=2.9->tensorflow) (1.3.1)\n",
      "Requirement already satisfied: importlib-metadata>=4.4 in c:\\users\\stephen pangga\\appdata\\local\\programs\\python\\python39\\lib\\site-packages (from markdown>=2.6.8->tensorboard<2.10,>=2.9->tensorflow) (4.11.4)\n",
      "Requirement already satisfied: charset-normalizer~=2.0.0 in c:\\users\\stephen pangga\\appdata\\local\\programs\\python\\python39\\lib\\site-packages (from requests<3,>=2.21.0->tensorboard<2.10,>=2.9->tensorflow) (2.0.12)\n",
      "Requirement already satisfied: idna<4,>=2.5 in c:\\users\\stephen pangga\\appdata\\local\\programs\\python\\python39\\lib\\site-packages (from requests<3,>=2.21.0->tensorboard<2.10,>=2.9->tensorflow) (3.3)\n",
      "Requirement already satisfied: certifi>=2017.4.17 in c:\\users\\stephen pangga\\appdata\\local\\programs\\python\\python39\\lib\\site-packages (from requests<3,>=2.21.0->tensorboard<2.10,>=2.9->tensorflow) (2022.5.18.1)\n",
      "Requirement already satisfied: urllib3<1.27,>=1.21.1 in c:\\users\\stephen pangga\\appdata\\local\\programs\\python\\python39\\lib\\site-packages (from requests<3,>=2.21.0->tensorboard<2.10,>=2.9->tensorflow) (1.26.9)\n",
      "Requirement already satisfied: zipp>=0.5 in c:\\users\\stephen pangga\\appdata\\local\\programs\\python\\python39\\lib\\site-packages (from importlib-metadata>=4.4->markdown>=2.6.8->tensorboard<2.10,>=2.9->tensorflow) (3.8.0)\n",
      "Requirement already satisfied: pyasn1<0.5.0,>=0.4.6 in c:\\users\\stephen pangga\\appdata\\local\\programs\\python\\python39\\lib\\site-packages (from pyasn1-modules>=0.2.1->google-auth<3,>=1.6.3->tensorboard<2.10,>=2.9->tensorflow) (0.4.8)\n",
      "Requirement already satisfied: oauthlib>=3.0.0 in c:\\users\\stephen pangga\\appdata\\local\\programs\\python\\python39\\lib\\site-packages (from requests-oauthlib>=0.7.0->google-auth-oauthlib<0.5,>=0.4.1->tensorboard<2.10,>=2.9->tensorflow) (3.2.0)\n",
      "Note: you may need to restart the kernel to use updated packages.\n"
     ]
    },
    {
     "name": "stderr",
     "output_type": "stream",
     "text": [
      "WARNING: You are using pip version 22.0.4; however, version 22.1.2 is available.\n",
      "You should consider upgrading via the 'c:\\Users\\Stephen Pangga\\AppData\\Local\\Programs\\Python\\Python39\\python.exe -m pip install --upgrade pip' command.\n"
     ]
    },
    {
     "name": "stdout",
     "output_type": "stream",
     "text": [
      "Requirement already satisfied: image_dataset_loader in c:\\users\\stephen pangga\\appdata\\local\\programs\\python\\python39\\lib\\site-packages (0.0.0)\n",
      "Requirement already satisfied: numpy>=1.0.0 in c:\\users\\stephen pangga\\appdata\\local\\programs\\python\\python39\\lib\\site-packages (from image_dataset_loader) (1.22.4)\n",
      "Requirement already satisfied: imageio>=2.0.0 in c:\\users\\stephen pangga\\appdata\\local\\programs\\python\\python39\\lib\\site-packages (from image_dataset_loader) (2.19.3)\n",
      "Requirement already satisfied: pillow>=8.3.2 in c:\\users\\stephen pangga\\appdata\\local\\programs\\python\\python39\\lib\\site-packages (from imageio>=2.0.0->image_dataset_loader) (9.1.1)\n",
      "Note: you may need to restart the kernel to use updated packages.\n"
     ]
    },
    {
     "name": "stderr",
     "output_type": "stream",
     "text": [
      "WARNING: You are using pip version 22.0.4; however, version 22.1.2 is available.\n",
      "You should consider upgrading via the 'c:\\Users\\Stephen Pangga\\AppData\\Local\\Programs\\Python\\Python39\\python.exe -m pip install --upgrade pip' command.\n"
     ]
    }
   ],
   "source": [
    "%pip install keras\n",
    "%pip install tensorflow\n",
    "import keras\n",
    "import os\n",
    "from keras.models import *\n",
    "from keras.layers import *\n",
    "from keras.datasets import cifar10\n",
    "from keras.optimizers import *\n",
    "from keras.preprocessing.image import ImageDataGenerator\n",
    "from matplotlib import pyplot as plt\n",
    "from keras.utils import *\n",
    "from keras.applications.vgg16 import VGG16\n",
    "%pip install image_dataset_loader\n",
    "from image_dataset_loader import load\n",
    "\n",
    "# train_data_dir = os.path.dirname(\"output_path/train/Resize\")\n",
    "# validation_data_dir = os.path.dirname(\"output_path/val/Resize\")\n",
    "\n",
    "train_data_dir = os.path.dirname(\"output_path/train/\")\n",
    "validation_data_dir = os.path.dirname(\"output_path/val/\")\n",
    "test_data_dir = os.path.dirname(\"output_path/test/\")"
   ]
  },
  {
   "cell_type": "code",
   "execution_count": 4,
   "metadata": {},
   "outputs": [
    {
     "name": "stdout",
     "output_type": "stream",
     "text": [
      "Found 864 images belonging to 8 classes.\n",
      "Found 107 images belonging to 8 classes.\n",
      "Found 109 images belonging to 8 classes.\n",
      "<keras.preprocessing.image.DirectoryIterator object at 0x000001B61FD72700>\n",
      "<keras.preprocessing.image.DirectoryIterator object at 0x000001B61FD72730>\n",
      "<keras.preprocessing.image.DirectoryIterator object at 0x000001B61FD72D00>\n"
     ]
    }
   ],
   "source": [
    "\n",
    "img_width, img_height = 220, 380\n",
    "batch_size = 28\n",
    "\n",
    "datagenerate = ImageDataGenerator(rescale=1.0/255)\n",
    "                                \n",
    "train_generator = datagenerate.flow_from_directory(train_data_dir,\n",
    "                                                target_size=(img_width,img_height),\n",
    "                                                 batch_size=batch_size,\n",
    "                                                 #subset=\"training\",\n",
    "                                                 class_mode='categorical')\n",
    "\n",
    "validation_generator = datagenerate.flow_from_directory(validation_data_dir,\n",
    "                                                        target_size=(img_width,img_height),\n",
    "                                                        batch_size=batch_size,\n",
    "                                                        #subset=\"validation\",\n",
    "                                                        class_mode='categorical')\n",
    "\n",
    "test_generator = datagenerate.flow_from_directory(test_data_dir,\n",
    "                                                target_size=(img_width,img_height),\n",
    "                                                batch_size=batch_size,\n",
    "                                                #subset=\"validation\",\n",
    "                                                class_mode='categorical')\n",
    "print(train_generator)\n",
    "print(validation_generator)\n",
    "print(test_generator)"
   ]
  },
  {
   "cell_type": "code",
   "execution_count": 5,
   "metadata": {},
   "outputs": [
    {
     "name": "stdout",
     "output_type": "stream",
     "text": [
      "Model: \"model\"\n",
      "_________________________________________________________________\n",
      " Layer (type)                Output Shape              Param #   \n",
      "=================================================================\n",
      " input_1 (InputLayer)        [(None, 220, 380, 3)]     0         \n",
      "                                                                 \n",
      " block1_conv1 (Conv2D)       (None, 220, 380, 64)      1792      \n",
      "                                                                 \n",
      " block1_conv2 (Conv2D)       (None, 220, 380, 64)      36928     \n",
      "                                                                 \n",
      " block1_pool (MaxPooling2D)  (None, 110, 190, 64)      0         \n",
      "                                                                 \n",
      " block2_conv1 (Conv2D)       (None, 110, 190, 128)     73856     \n",
      "                                                                 \n",
      " block2_conv2 (Conv2D)       (None, 110, 190, 128)     147584    \n",
      "                                                                 \n",
      " block2_pool (MaxPooling2D)  (None, 55, 95, 128)       0         \n",
      "                                                                 \n",
      " block3_conv1 (Conv2D)       (None, 55, 95, 256)       295168    \n",
      "                                                                 \n",
      " block3_conv2 (Conv2D)       (None, 55, 95, 256)       590080    \n",
      "                                                                 \n",
      " block3_conv3 (Conv2D)       (None, 55, 95, 256)       590080    \n",
      "                                                                 \n",
      " block3_pool (MaxPooling2D)  (None, 27, 47, 256)       0         \n",
      "                                                                 \n",
      " block4_conv1 (Conv2D)       (None, 27, 47, 512)       1180160   \n",
      "                                                                 \n",
      " block4_conv2 (Conv2D)       (None, 27, 47, 512)       2359808   \n",
      "                                                                 \n",
      " block4_conv3 (Conv2D)       (None, 27, 47, 512)       2359808   \n",
      "                                                                 \n",
      " block4_pool (MaxPooling2D)  (None, 13, 23, 512)       0         \n",
      "                                                                 \n",
      " block5_conv1 (Conv2D)       (None, 13, 23, 512)       2359808   \n",
      "                                                                 \n",
      " block5_conv2 (Conv2D)       (None, 13, 23, 512)       2359808   \n",
      "                                                                 \n",
      " block5_conv3 (Conv2D)       (None, 13, 23, 512)       2359808   \n",
      "                                                                 \n",
      " block5_pool (MaxPooling2D)  (None, 6, 11, 512)        0         \n",
      "                                                                 \n",
      " flatten (Flatten)           (None, 33792)             0         \n",
      "                                                                 \n",
      " dense (Dense)               (None, 128)               4325504   \n",
      "                                                                 \n",
      " dense_1 (Dense)             (None, 8)                 1032      \n",
      "                                                                 \n",
      "=================================================================\n",
      "Total params: 19,041,224\n",
      "Trainable params: 4,326,536\n",
      "Non-trainable params: 14,714,688\n",
      "_________________________________________________________________\n"
     ]
    },
    {
     "name": "stderr",
     "output_type": "stream",
     "text": [
      "c:\\Users\\Stephen Pangga\\AppData\\Local\\Programs\\Python\\Python39\\lib\\site-packages\\keras\\optimizers\\optimizer_v2\\gradient_descent.py:108: UserWarning: The `lr` argument is deprecated, use `learning_rate` instead.\n",
      "  super(SGD, self).__init__(name, **kwargs)\n"
     ]
    }
   ],
   "source": [
    "def define_VGGmodel():\n",
    "    model = VGG16(include_top=False, input_shape=(img_width, img_height, 3))\n",
    "    for layer in model.layers:\n",
    "        layer.trainable = False\n",
    "    flat1 = Flatten()(model.layers[-1].output)\n",
    "    class1 = Dense(128, activation='relu', kernel_initializer='he_uniform')(flat1)\n",
    "    output = Dense(8, activation='softmax')(class1)\n",
    "    model = Model(inputs=model.inputs, outputs=output)\n",
    "    opt = SGD(lr=0.001, momentum=0.9)\n",
    "    model.compile(optimizer=opt, loss='categorical_crossentropy', metrics=['categorical_accuracy'])\n",
    "    return model\n",
    "\n",
    "model = define_VGGmodel()\n",
    "model.summary()"
   ]
  },
  {
   "cell_type": "code",
   "execution_count": 154,
   "metadata": {},
   "outputs": [
    {
     "name": "stdout",
     "output_type": "stream",
     "text": [
      "Model: \"sequential_5\"\n",
      "_________________________________________________________________\n",
      " Layer (type)                Output Shape              Param #   \n",
      "=================================================================\n",
      " conv2d_13 (Conv2D)          (None, 220, 380, 32)      896       \n",
      "                                                                 \n",
      " max_pooling2d_13 (MaxPoolin  (None, 110, 190, 32)     0         \n",
      " g2D)                                                            \n",
      "                                                                 \n",
      " conv2d_14 (Conv2D)          (None, 110, 190, 64)      18496     \n",
      "                                                                 \n",
      " max_pooling2d_14 (MaxPoolin  (None, 55, 95, 64)       0         \n",
      " g2D)                                                            \n",
      "                                                                 \n",
      " conv2d_15 (Conv2D)          (None, 55, 95, 128)       73856     \n",
      "                                                                 \n",
      " max_pooling2d_15 (MaxPoolin  (None, 27, 47, 128)      0         \n",
      " g2D)                                                            \n",
      "                                                                 \n",
      " flatten_19 (Flatten)        (None, 162432)            0         \n",
      "                                                                 \n",
      " dense_38 (Dense)            (None, 128)               20791424  \n",
      "                                                                 \n",
      " dense_39 (Dense)            (None, 7)                 903       \n",
      "                                                                 \n",
      "=================================================================\n",
      "Total params: 20,885,575\n",
      "Trainable params: 20,885,575\n",
      "Non-trainable params: 0\n",
      "_________________________________________________________________\n"
     ]
    }
   ],
   "source": [
    "# from keras import models\n",
    "# from keras import layers\n",
    "\n",
    "# model = Sequential()\n",
    "# model.add(Conv2D(32, (3, 3), activation='relu', kernel_initializer='he_uniform', padding='same', input_shape=(img_width, img_height, 3)))\n",
    "# model.add(MaxPooling2D((2, 2)))\n",
    "# model.add(Conv2D(64, (3, 3), activation='relu', kernel_initializer='he_uniform', padding='same'))\n",
    "# model.add(MaxPooling2D((2, 2)))\n",
    "# model.add(Conv2D(128, (3, 3), activation='relu', kernel_initializer='he_uniform', padding='same'))\n",
    "# model.add(MaxPooling2D((2, 2)))\n",
    "# model.add(Flatten())\n",
    "# # add classifier (dense layers)\n",
    "# model.add(Dense(128, activation='relu', kernel_initializer='he_uniform'))\n",
    "# model.add(Dense(7, activation='softmax'))\n",
    "# # compile model\n",
    "# opt = SGD(lr=0.01, momentum=0.9)\n",
    "# model.compile(optimizer=opt, loss='categorical_crossentropy', metrics=['accuracy'])\n",
    "\n",
    "\n",
    "# model.summary()"
   ]
  },
  {
   "cell_type": "code",
   "execution_count": 6,
   "metadata": {},
   "outputs": [],
   "source": [
    "from keras import callbacks\n",
    "earlystopping = callbacks.EarlyStopping(monitor =\"val_loss\", \n",
    "                                        mode =\"min\", patience = 5, \n",
    "                                        restore_best_weights = True)"
   ]
  },
  {
   "cell_type": "code",
   "execution_count": 7,
   "metadata": {},
   "outputs": [
    {
     "name": "stdout",
     "output_type": "stream",
     "text": [
      "Epoch 1/40\n",
      "31/31 [==============================] - 150s 5s/step - loss: 2.1552 - categorical_accuracy: 0.1759 - val_loss: 2.0614 - val_categorical_accuracy: 0.1682\n",
      "Epoch 2/40\n",
      "31/31 [==============================] - 141s 5s/step - loss: 1.9564 - categorical_accuracy: 0.2697 - val_loss: 1.8792 - val_categorical_accuracy: 0.2430\n",
      "Epoch 3/40\n",
      "31/31 [==============================] - 142s 5s/step - loss: 1.7725 - categorical_accuracy: 0.3715 - val_loss: 1.7334 - val_categorical_accuracy: 0.3738\n",
      "Epoch 4/40\n",
      "31/31 [==============================] - 140s 5s/step - loss: 1.6401 - categorical_accuracy: 0.4178 - val_loss: 1.6333 - val_categorical_accuracy: 0.4579\n",
      "Epoch 5/40\n",
      "31/31 [==============================] - 138s 4s/step - loss: 1.5064 - categorical_accuracy: 0.5104 - val_loss: 1.5609 - val_categorical_accuracy: 0.3738\n",
      "Epoch 6/40\n",
      "31/31 [==============================] - 144s 5s/step - loss: 1.4798 - categorical_accuracy: 0.4722 - val_loss: 1.4797 - val_categorical_accuracy: 0.5047\n",
      "Epoch 7/40\n",
      "31/31 [==============================] - 141s 5s/step - loss: 1.3611 - categorical_accuracy: 0.5625 - val_loss: 1.3452 - val_categorical_accuracy: 0.5607\n",
      "Epoch 8/40\n",
      "31/31 [==============================] - 142s 5s/step - loss: 1.1873 - categorical_accuracy: 0.6505 - val_loss: 1.3551 - val_categorical_accuracy: 0.5327\n",
      "Epoch 9/40\n",
      "31/31 [==============================] - 142s 5s/step - loss: 1.0908 - categorical_accuracy: 0.6632 - val_loss: 1.1528 - val_categorical_accuracy: 0.6168\n",
      "Epoch 10/40\n",
      "31/31 [==============================] - 142s 5s/step - loss: 0.9703 - categorical_accuracy: 0.7130 - val_loss: 1.0775 - val_categorical_accuracy: 0.6262\n",
      "Epoch 11/40\n",
      "31/31 [==============================] - 142s 5s/step - loss: 0.8771 - categorical_accuracy: 0.7650 - val_loss: 0.9277 - val_categorical_accuracy: 0.7664\n",
      "Epoch 12/40\n",
      "31/31 [==============================] - 142s 5s/step - loss: 0.7853 - categorical_accuracy: 0.7986 - val_loss: 0.8714 - val_categorical_accuracy: 0.7757\n",
      "Epoch 13/40\n",
      "31/31 [==============================] - 142s 5s/step - loss: 0.7041 - categorical_accuracy: 0.8229 - val_loss: 0.8377 - val_categorical_accuracy: 0.7757\n",
      "Epoch 14/40\n",
      "31/31 [==============================] - 143s 5s/step - loss: 0.7077 - categorical_accuracy: 0.8102 - val_loss: 1.0978 - val_categorical_accuracy: 0.4766\n",
      "Epoch 15/40\n",
      "31/31 [==============================] - 137s 4s/step - loss: 0.6444 - categorical_accuracy: 0.8056 - val_loss: 0.7628 - val_categorical_accuracy: 0.7477\n",
      "Epoch 16/40\n",
      "31/31 [==============================] - 136s 4s/step - loss: 0.5218 - categorical_accuracy: 0.8704 - val_loss: 0.6779 - val_categorical_accuracy: 0.7850\n",
      "Epoch 17/40\n",
      "31/31 [==============================] - 136s 4s/step - loss: 0.4642 - categorical_accuracy: 0.8981 - val_loss: 0.7991 - val_categorical_accuracy: 0.7477\n",
      "Epoch 18/40\n",
      "31/31 [==============================] - 136s 4s/step - loss: 0.4262 - categorical_accuracy: 0.9132 - val_loss: 0.6060 - val_categorical_accuracy: 0.8785\n",
      "Epoch 19/40\n",
      "31/31 [==============================] - 136s 4s/step - loss: 0.3569 - categorical_accuracy: 0.9491 - val_loss: 0.5675 - val_categorical_accuracy: 0.8318\n",
      "Epoch 20/40\n",
      "31/31 [==============================] - 143s 5s/step - loss: 0.3654 - categorical_accuracy: 0.9225 - val_loss: 0.6673 - val_categorical_accuracy: 0.7664\n",
      "Epoch 21/40\n",
      "31/31 [==============================] - 144s 5s/step - loss: 0.4347 - categorical_accuracy: 0.8738 - val_loss: 0.5888 - val_categorical_accuracy: 0.7944\n",
      "Epoch 22/40\n",
      "31/31 [==============================] - 142s 5s/step - loss: 0.3209 - categorical_accuracy: 0.9259 - val_loss: 0.5761 - val_categorical_accuracy: 0.8318\n",
      "Epoch 23/40\n",
      "31/31 [==============================] - 140s 5s/step - loss: 0.2571 - categorical_accuracy: 0.9560 - val_loss: 0.4565 - val_categorical_accuracy: 0.9065\n",
      "Epoch 24/40\n",
      "31/31 [==============================] - 140s 5s/step - loss: 0.2595 - categorical_accuracy: 0.9456 - val_loss: 0.4827 - val_categorical_accuracy: 0.8411\n",
      "Epoch 25/40\n",
      "31/31 [==============================] - 136s 4s/step - loss: 0.2793 - categorical_accuracy: 0.9398 - val_loss: 0.5166 - val_categorical_accuracy: 0.8598\n",
      "Epoch 26/40\n",
      "31/31 [==============================] - 136s 4s/step - loss: 0.2173 - categorical_accuracy: 0.9595 - val_loss: 0.5865 - val_categorical_accuracy: 0.8037\n",
      "Epoch 27/40\n",
      "31/31 [==============================] - 135s 4s/step - loss: 0.2895 - categorical_accuracy: 0.9201 - val_loss: 0.7107 - val_categorical_accuracy: 0.7290\n",
      "Epoch 28/40\n",
      "31/31 [==============================] - 136s 4s/step - loss: 0.2302 - categorical_accuracy: 0.9468 - val_loss: 0.4500 - val_categorical_accuracy: 0.8879\n",
      "Epoch 29/40\n",
      "31/31 [==============================] - 138s 4s/step - loss: 0.1632 - categorical_accuracy: 0.9850 - val_loss: 0.3805 - val_categorical_accuracy: 0.9065\n",
      "Epoch 30/40\n",
      "31/31 [==============================] - 136s 4s/step - loss: 0.1559 - categorical_accuracy: 0.9711 - val_loss: 0.4166 - val_categorical_accuracy: 0.8972\n",
      "Epoch 31/40\n",
      "31/31 [==============================] - 137s 4s/step - loss: 0.1483 - categorical_accuracy: 0.9815 - val_loss: 0.4243 - val_categorical_accuracy: 0.8692\n",
      "Epoch 32/40\n",
      "31/31 [==============================] - 153s 5s/step - loss: 0.1558 - categorical_accuracy: 0.9745 - val_loss: 0.3965 - val_categorical_accuracy: 0.8972\n",
      "Epoch 33/40\n",
      "31/31 [==============================] - 156s 5s/step - loss: 0.1219 - categorical_accuracy: 0.9907 - val_loss: 0.3671 - val_categorical_accuracy: 0.9159\n",
      "Epoch 34/40\n",
      "31/31 [==============================] - 158s 5s/step - loss: 0.1168 - categorical_accuracy: 0.9907 - val_loss: 0.3603 - val_categorical_accuracy: 0.9065\n",
      "Epoch 35/40\n",
      "31/31 [==============================] - 157s 5s/step - loss: 0.1052 - categorical_accuracy: 0.9954 - val_loss: 0.3737 - val_categorical_accuracy: 0.8879\n",
      "Epoch 36/40\n",
      "31/31 [==============================] - 156s 5s/step - loss: 0.0987 - categorical_accuracy: 0.9942 - val_loss: 0.4123 - val_categorical_accuracy: 0.8598\n",
      "Epoch 37/40\n",
      "31/31 [==============================] - 157s 5s/step - loss: 0.0947 - categorical_accuracy: 0.9931 - val_loss: 0.4004 - val_categorical_accuracy: 0.8785\n",
      "Epoch 38/40\n",
      "31/31 [==============================] - 158s 5s/step - loss: 0.0902 - categorical_accuracy: 0.9954 - val_loss: 0.3244 - val_categorical_accuracy: 0.9252\n",
      "Epoch 39/40\n",
      "31/31 [==============================] - 151s 5s/step - loss: 0.0808 - categorical_accuracy: 0.9988 - val_loss: 0.4400 - val_categorical_accuracy: 0.8692\n",
      "Epoch 40/40\n",
      "31/31 [==============================] - 156s 5s/step - loss: 0.0884 - categorical_accuracy: 0.9931 - val_loss: 0.3709 - val_categorical_accuracy: 0.9159\n"
     ]
    }
   ],
   "source": [
    "# %pip install History\n",
    "# from keras.callbacks import History\n",
    "# history = History()\n",
    "history = model.fit(train_generator, steps_per_epoch=len(train_generator), validation_data=validation_generator, validation_steps=len(validation_generator), epochs=40, verbose=1, shuffle=False, callbacks=[earlystopping])\n"
   ]
  },
  {
   "cell_type": "code",
   "execution_count": 8,
   "metadata": {},
   "outputs": [
    {
     "name": "stdout",
     "output_type": "stream",
     "text": [
      "{'loss': [2.155233144760132, 1.9564160108566284, 1.772536277770996, 1.6401087045669556, 1.5064383745193481, 1.479783535003662, 1.361099123954773, 1.1873022317886353, 1.0907942056655884, 0.9702582359313965, 0.8771412968635559, 0.7853153347969055, 0.7040719389915466, 0.707699716091156, 0.6443704962730408, 0.5217830538749695, 0.46424826979637146, 0.42620113492012024, 0.3569166362285614, 0.36544397473335266, 0.4346792697906494, 0.32087332010269165, 0.2570692300796509, 0.2595384418964386, 0.2793387472629547, 0.21727196872234344, 0.28950241208076477, 0.23019473254680634, 0.16324463486671448, 0.15589554607868195, 0.14830128848552704, 0.1557796746492386, 0.12189294397830963, 0.11676907539367676, 0.1052248552441597, 0.09870125353336334, 0.09474081546068192, 0.09024429321289062, 0.08081010729074478, 0.08844489604234695], 'categorical_accuracy': [0.17592592537403107, 0.26967594027519226, 0.3715277910232544, 0.41782405972480774, 0.5104166865348816, 0.4722222089767456, 0.5625, 0.6504629850387573, 0.6631944179534912, 0.7129629850387573, 0.7650462985038757, 0.7986111044883728, 0.8229166865348816, 0.8101851940155029, 0.8055555820465088, 0.8703703880310059, 0.8981481194496155, 0.9131944179534912, 0.9490740895271301, 0.9224537014961243, 0.8738425970077515, 0.9259259104728699, 0.9560185074806213, 0.9456018805503845, 0.9398148059844971, 0.9594907164573669, 0.9201388955116272, 0.9467592835426331, 0.9849537014961243, 0.9710648059844971, 0.9814814925193787, 0.9745370149612427, 0.9907407164573669, 0.9907407164573669, 0.9953703880310059, 0.9942129850387573, 0.9930555820465088, 0.9953703880310059, 0.9988425970077515, 0.9930555820465088], 'val_loss': [2.0613532066345215, 1.8791817426681519, 1.733359694480896, 1.6333298683166504, 1.5608980655670166, 1.479710340499878, 1.3451670408248901, 1.355071783065796, 1.1527904272079468, 1.0774927139282227, 0.9277452230453491, 0.8713632822036743, 0.8376672267913818, 1.0978046655654907, 0.7628396153450012, 0.6778610348701477, 0.7991374135017395, 0.6060177087783813, 0.5675286054611206, 0.6672644019126892, 0.5887846946716309, 0.5761297345161438, 0.4564817249774933, 0.48269784450531006, 0.5166254639625549, 0.5865264534950256, 0.710719645023346, 0.4500490128993988, 0.3804832100868225, 0.41658005118370056, 0.4242551624774933, 0.39645400643348694, 0.36707064509391785, 0.36029836535453796, 0.37369871139526367, 0.4123315215110779, 0.4003935158252716, 0.3243922293186188, 0.4399690628051758, 0.3708969056606293], 'val_categorical_accuracy': [0.1682243049144745, 0.2429906576871872, 0.37383177876472473, 0.4579439163208008, 0.37383177876472473, 0.5046728849411011, 0.5607476830482483, 0.5327102541923523, 0.6168224215507507, 0.6261682510375977, 0.7663551568984985, 0.7757009267807007, 0.7757009267807007, 0.47663551568984985, 0.7476635575294495, 0.7850467562675476, 0.7476635575294495, 0.8785046935081482, 0.8317757248878479, 0.7663551568984985, 0.7943925261497498, 0.8317757248878479, 0.9065420627593994, 0.84112149477005, 0.8598130941390991, 0.8037382960319519, 0.7289719581604004, 0.8878504633903503, 0.9065420627593994, 0.8971962332725525, 0.8691588640213013, 0.8971962332725525, 0.9158878326416016, 0.9065420627593994, 0.8878504633903503, 0.8598130941390991, 0.8785046935081482, 0.9252336621284485, 0.8691588640213013, 0.9158878326416016]}\n"
     ]
    },
    {
     "data": {
      "image/png": "[encoded data removed]",
      "text/plain": [
       "<Figure size 432x288 with 1 Axes>"
      ]
     },
     "metadata": {
      "needs_background": "light"
     },
     "output_type": "display_data"
    },
    {
     "data": {
      "image/png": "[encoded data removed]",
      "text/plain": [
       "<Figure size 432x288 with 1 Axes>"
      ]
     },
     "metadata": {
      "needs_background": "light"
     },
     "output_type": "display_data"
    }
   ],
   "source": [
    "print(history.history)\n",
    "plt.plot(history.history['categorical_accuracy'])\n",
    "plt.plot(history.history['val_categorical_accuracy'])\n",
    "plt.title('Model Accuracy')\n",
    "plt.ylabel('Accuracy')\n",
    "plt.xlabel('Epoch')\n",
    "plt.legend(['Train', 'Val'], loc='upper left')\n",
    "plt.show()\n",
    "\n",
    "plt.plot(history.history['loss'])\n",
    "plt.plot(history.history['val_loss'])\n",
    "plt.title('Model Loss')\n",
    "plt.ylabel('Loss')\n",
    "plt.xlabel('Epoch')\n",
    "plt.legend(['Train', 'Val'], loc='upper right')\n",
    "plt.show()"
   ]
  },
  {
   "cell_type": "code",
   "execution_count": 23,
   "metadata": {},
   "outputs": [
    {
     "name": "stderr",
     "output_type": "stream",
     "text": [
      "WARNING:absl:Found untraced functions such as _jit_compiled_convolution_op, _jit_compiled_convolution_op, _jit_compiled_convolution_op, _jit_compiled_convolution_op, _jit_compiled_convolution_op while saving (showing 5 of 13). These functions will not be directly callable after loading.\n"
     ]
    },
    {
     "name": "stdout",
     "output_type": "stream",
     "text": [
      "INFO:tensorflow:Assets written to: classifier_train-99.3_val-91.6_test-88.99%\\assets\n"
     ]
    },
    {
     "name": "stderr",
     "output_type": "stream",
     "text": [
      "INFO:tensorflow:Assets written to: classifier_train-99.3_val-91.6_test-88.99%\\assets\n"
     ]
    }
   ],
   "source": [
    "#model.save('classifier_train-99.3_val-91.6_test-88.99%')"
   ]
  },
  {
   "cell_type": "code",
   "execution_count": 22,
   "metadata": {},
   "outputs": [
    {
     "name": "stdout",
     "output_type": "stream",
     "text": [
      "Validation image - evaluation\n",
      "4/4 [==============================] - 17s 4s/step - loss: 0.3709 - categorical_accuracy: 0.9159\n",
      "accuracy score:  91.58878326416016\n"
     ]
    }
   ],
   "source": [
    "print('Validation image - evaluation')\n",
    "\n",
    "_, acc = model.evaluate(validation_generator, steps=len(validation_generator), verbose=1)\n",
    "print('accuracy score: ', acc*100 )"
   ]
  },
  {
   "cell_type": "code",
   "execution_count": 16,
   "metadata": {},
   "outputs": [
    {
     "name": "stdout",
     "output_type": "stream",
     "text": [
      "Test image - evaluation\n",
      "4/4 [==============================] - 18s 4s/step - loss: 0.3477 - categorical_accuracy: 0.8899\n",
      "accuracy score:  88.99082541465759\n"
     ]
    }
   ],
   "source": [
    "print('Test image - evaluation')\n",
    "_, acc = model.evaluate(test_generator, steps=len(test_generator), verbose=1)\n",
    "print('accuracy score: ', acc*100 )"
   ]
  },
  {
   "cell_type": "code",
   "execution_count": 25,
   "metadata": {},
   "outputs": [
    {
     "name": "stdout",
     "output_type": "stream",
     "text": [
      "4/4 [==============================] - 18s 4s/step\n",
      "accuracy:  0.11926605504587157\n"
     ]
    }
   ],
   "source": [
    "import numpy as np\n",
    "from sklearn.metrics import confusion_matrix\n",
    "from sklearn import metrics\n",
    "\n",
    "Y_pred = model.predict(test_generator)\n",
    "y_pred = np.argmax(Y_pred, axis=1)\n",
    "print('accuracy: ', metrics.accuracy_score(y_pred, test_generator.classes))"
   ]
  },
  {
   "cell_type": "code",
   "execution_count": 27,
   "metadata": {},
   "outputs": [
    {
     "name": "stdout",
     "output_type": "stream",
     "text": [
      "Confusion Matrix\n",
      "[[0 4 1 0 1 5 2 0]\n",
      " [3 2 2 1 2 2 3 3]\n",
      " [0 2 2 2 0 1 3 1]\n",
      " [1 1 0 0 0 2 1 3]\n",
      " [3 0 0 0 2 0 1 2]\n",
      " [2 2 2 1 0 3 3 2]\n",
      " [1 4 3 0 2 3 2 1]\n",
      " [4 3 2 2 2 2 3 2]]\n"
     ]
    }
   ],
   "source": [
    "print('Confusion Matrix')\n",
    "print(confusion_matrix(y_pred, test_generator.classes))\n"
   ]
  },
  {
   "cell_type": "code",
   "execution_count": 20,
   "metadata": {},
   "outputs": [
    {
     "data": {
      "text/plain": [
       "<sklearn.metrics._plot.confusion_matrix.ConfusionMatrixDisplay at 0x1b6312e31c0>"
      ]
     },
     "execution_count": 20,
     "metadata": {},
     "output_type": "execute_result"
    },
    {
     "data": {
      "image/png": "[encoded data removed]",
      "text/plain": [
       "<Figure size 720x720 with 2 Axes>"
      ]
     },
     "metadata": {
      "needs_background": "light"
     },
     "output_type": "display_data"
    }
   ],
   "source": [
    "import seaborn as sns\n",
    "from sklearn.metrics import confusion_matrix, ConfusionMatrixDisplay\n",
    "\n",
    "cm = confusion_matrix(test_generator.classes, y_pred)\n",
    "cmd = ConfusionMatrixDisplay(cm, display_labels=[ 'BD-Vacutainer', 'EDTA(K2)', 'Monovette', 'Plain','SGS', 'Vacuette' , 'Vacutest', 'Venosafe'])\n",
    "fig, ax = plt.subplots(figsize=(10,10))\n",
    "plt.grid(False)\n",
    "cmd.plot(ax=ax)"
   ]
  },
  {
   "cell_type": "code",
   "execution_count": 21,
   "metadata": {},
   "outputs": [
    {
     "name": "stdout",
     "output_type": "stream",
     "text": [
      "Accuracy Score : 0.1559633027522936\n",
      "Report : \n",
      "               precision    recall  f1-score   support\n",
      "\n",
      "BD-Vacutainer       0.15      0.14      0.15        14\n",
      "     EDTA(K2)       0.00      0.00      0.00        18\n",
      "    Monovette       0.27      0.25      0.26        12\n",
      "        Plain       0.00      0.00      0.00         6\n",
      "          SGS       0.12      0.11      0.12         9\n",
      "     Vacuette       0.20      0.17      0.18        18\n",
      "     Vacutest       0.31      0.28      0.29        18\n",
      "     Venosafe       0.15      0.21      0.18        14\n",
      "\n",
      "     accuracy                           0.16       109\n",
      "    macro avg       0.15      0.15      0.15       109\n",
      " weighted avg       0.16      0.16      0.16       109\n",
      "\n"
     ]
    }
   ],
   "source": [
    "from sklearn.metrics import accuracy_score\n",
    "from sklearn.metrics import classification_report\n",
    "print('Accuracy Score :', accuracy_score(test_generator.labels, y_pred)) \n",
    "print ('Report : ')\n",
    "target_names = ['BD-Vacutainer', 'EDTA(K2)', 'Monovette', 'Plain', 'SGS', 'Vacuette' , 'Vacutest', 'Venosafe']\n",
    "print (classification_report(test_generator.labels,y_pred, target_names=target_names)) "
   ]
  }
 ],
 "metadata": {
  "kernelspec": {
   "display_name": "Python 3.9.12 64-bit",
   "language": "python",
   "name": "python3"
  },
  "language_info": {
   "codemirror_mode": {
    "name": "ipython",
    "version": 3
   },
   "file_extension": ".py",
   "mimetype": "text/x-python",
   "name": "python",
   "nbconvert_exporter": "python",
   "pygments_lexer": "ipython3",
   "version": "3.9.12"
  },
  "orig_nbformat": 4,
  "vscode": {
   "interpreter": {
    "hash": "fa5d115fa710d7eb103ffbd6b5d38db487e39deec5c3097f3f1ac85e2ee2f5aa"
   }
  }
 },
 "nbformat": 4,
 "nbformat_minor": 2
}
